{
 "cells": [
  {
   "cell_type": "code",
   "execution_count": 46,
   "id": "057ec037",
   "metadata": {},
   "outputs": [],
   "source": [
    "import jieba\n",
    "import jieba.analyse\n",
    "import pandas as pd\n",
    "import numpy\n",
    "from collections import Counter"
   ]
  },
  {
   "cell_type": "code",
   "execution_count": 47,
   "id": "3a1341a8",
   "metadata": {},
   "outputs": [],
   "source": [
    "orgdata = pd.read_csv('110_sdata.csv')"
   ]
  },
  {
   "cell_type": "code",
   "execution_count": 48,
   "id": "1e3e28f7",
   "metadata": {},
   "outputs": [
    {
     "data": {
      "text/html": [
       "<div>\n",
       "<style scoped>\n",
       "    .dataframe tbody tr th:only-of-type {\n",
       "        vertical-align: middle;\n",
       "    }\n",
       "\n",
       "    .dataframe tbody tr th {\n",
       "        vertical-align: top;\n",
       "    }\n",
       "\n",
       "    .dataframe thead th {\n",
       "        text-align: right;\n",
       "    }\n",
       "</style>\n",
       "<table border=\"1\" class=\"dataframe\">\n",
       "  <thead>\n",
       "    <tr style=\"text-align: right;\">\n",
       "      <th></th>\n",
       "      <th>學校代碼</th>\n",
       "      <th>學校名稱</th>\n",
       "      <th>科系代碼</th>\n",
       "      <th>科系名稱</th>\n",
       "      <th>日間∕進修別</th>\n",
       "      <th>等級別</th>\n",
       "      <th>學生數</th>\n",
       "      <th>教師數</th>\n",
       "      <th>上學年度畢業生數</th>\n",
       "      <th>縣市名稱</th>\n",
       "      <th>體系別</th>\n",
       "    </tr>\n",
       "  </thead>\n",
       "  <tbody>\n",
       "    <tr>\n",
       "      <th>0</th>\n",
       "      <td>1</td>\n",
       "      <td>國立政治大學</td>\n",
       "      <td>01111001</td>\n",
       "      <td>教育學系</td>\n",
       "      <td>D 日</td>\n",
       "      <td>D 博士</td>\n",
       "      <td>117</td>\n",
       "      <td>0</td>\n",
       "      <td>18</td>\n",
       "      <td>30 臺北市</td>\n",
       "      <td>1 一般</td>\n",
       "    </tr>\n",
       "    <tr>\n",
       "      <th>1</th>\n",
       "      <td>1</td>\n",
       "      <td>國立政治大學</td>\n",
       "      <td>01111001</td>\n",
       "      <td>教育學系</td>\n",
       "      <td>D 日</td>\n",
       "      <td>M 碩士</td>\n",
       "      <td>27</td>\n",
       "      <td>0</td>\n",
       "      <td>7</td>\n",
       "      <td>30 臺北市</td>\n",
       "      <td>1 一般</td>\n",
       "    </tr>\n",
       "    <tr>\n",
       "      <th>2</th>\n",
       "      <td>1</td>\n",
       "      <td>國立政治大學</td>\n",
       "      <td>01111001</td>\n",
       "      <td>教育學系</td>\n",
       "      <td>D 日</td>\n",
       "      <td>B 學士</td>\n",
       "      <td>213</td>\n",
       "      <td>14</td>\n",
       "      <td>57</td>\n",
       "      <td>30 臺北市</td>\n",
       "      <td>1 一般</td>\n",
       "    </tr>\n",
       "    <tr>\n",
       "      <th>3</th>\n",
       "      <td>1</td>\n",
       "      <td>國立政治大學</td>\n",
       "      <td>01114005</td>\n",
       "      <td>教育行政與政策研究所</td>\n",
       "      <td>D 日</td>\n",
       "      <td>M 碩士</td>\n",
       "      <td>49</td>\n",
       "      <td>1</td>\n",
       "      <td>12</td>\n",
       "      <td>30 臺北市</td>\n",
       "      <td>1 一般</td>\n",
       "    </tr>\n",
       "    <tr>\n",
       "      <th>4</th>\n",
       "      <td>1</td>\n",
       "      <td>國立政治大學</td>\n",
       "      <td>01114006</td>\n",
       "      <td>學校行政碩士在職專班</td>\n",
       "      <td>N 職</td>\n",
       "      <td>M 碩士</td>\n",
       "      <td>79</td>\n",
       "      <td>0</td>\n",
       "      <td>25</td>\n",
       "      <td>30 臺北市</td>\n",
       "      <td>1 一般</td>\n",
       "    </tr>\n",
       "  </tbody>\n",
       "</table>\n",
       "</div>"
      ],
      "text/plain": [
       "   學校代碼    學校名稱      科系代碼        科系名稱 日間∕進修別   等級別  學生數  教師數  上學年度畢業生數  \\\n",
       "0     1  國立政治大學  01111001        教育學系    D 日  D 博士  117    0        18   \n",
       "1     1  國立政治大學  01111001        教育學系    D 日  M 碩士   27    0         7   \n",
       "2     1  國立政治大學  01111001        教育學系    D 日  B 學士  213   14        57   \n",
       "3     1  國立政治大學  01114005  教育行政與政策研究所    D 日  M 碩士   49    1        12   \n",
       "4     1  國立政治大學  01114006  學校行政碩士在職專班    N 職  M 碩士   79    0        25   \n",
       "\n",
       "     縣市名稱   體系別  \n",
       "0  30 臺北市  1 一般  \n",
       "1  30 臺北市  1 一般  \n",
       "2  30 臺北市  1 一般  \n",
       "3  30 臺北市  1 一般  \n",
       "4  30 臺北市  1 一般  "
      ]
     },
     "execution_count": 48,
     "metadata": {},
     "output_type": "execute_result"
    }
   ],
   "source": [
    "orgdata.head()"
   ]
  },
  {
   "cell_type": "code",
   "execution_count": 73,
   "id": "396ae3a0",
   "metadata": {},
   "outputs": [
    {
     "name": "stdout",
     "output_type": "stream",
     "text": [
      "我/是/臺師大/科技系/學生/魏士凱\n"
     ]
    }
   ],
   "source": [
    "#測試結巴效果\n",
    "documents = ['我是臺師大科技系學生魏士凱']\n",
    "# 精確模式\n",
    "for sentence in documents:\n",
    "    seg_list = jieba.cut(sentence)\n",
    "    print('/'.join(seg_list))"
   ]
  },
  {
   "cell_type": "code",
   "execution_count": 74,
   "id": "5ae43406",
   "metadata": {},
   "outputs": [
    {
     "name": "stdout",
     "output_type": "stream",
     "text": [
      "我/是/臺師大/科技系/學生/魏士凱\n"
     ]
    }
   ],
   "source": [
    "jieba.load_userdict('./userdict.txt')\n",
    "\n",
    "for sentence in documents:\n",
    "    seg_list = jieba.cut(sentence)\n",
    "    print('/'.join(seg_list))"
   ]
  },
  {
   "cell_type": "code",
   "execution_count": 95,
   "id": "3cdd557a",
   "metadata": {},
   "outputs": [
    {
     "data": {
      "text/html": [
       "<div>\n",
       "<style scoped>\n",
       "    .dataframe tbody tr th:only-of-type {\n",
       "        vertical-align: middle;\n",
       "    }\n",
       "\n",
       "    .dataframe tbody tr th {\n",
       "        vertical-align: top;\n",
       "    }\n",
       "\n",
       "    .dataframe thead th {\n",
       "        text-align: right;\n",
       "    }\n",
       "</style>\n",
       "<table border=\"1\" class=\"dataframe\">\n",
       "  <thead>\n",
       "    <tr style=\"text-align: right;\">\n",
       "      <th></th>\n",
       "      <th>學校代碼</th>\n",
       "      <th>學校名稱</th>\n",
       "      <th>科系代碼</th>\n",
       "      <th>科系名稱</th>\n",
       "      <th>日間∕進修別</th>\n",
       "      <th>等級別</th>\n",
       "      <th>學生數</th>\n",
       "      <th>教師數</th>\n",
       "      <th>上學年度畢業生數</th>\n",
       "      <th>縣市名稱</th>\n",
       "      <th>體系別</th>\n",
       "      <th>seg</th>\n",
       "    </tr>\n",
       "  </thead>\n",
       "  <tbody>\n",
       "    <tr>\n",
       "      <th>0</th>\n",
       "      <td>1</td>\n",
       "      <td>國立政治大學</td>\n",
       "      <td>01111001</td>\n",
       "      <td>教育學系</td>\n",
       "      <td>D 日</td>\n",
       "      <td>D 博士</td>\n",
       "      <td>117</td>\n",
       "      <td>0</td>\n",
       "      <td>18</td>\n",
       "      <td>30 臺北市</td>\n",
       "      <td>1 一般</td>\n",
       "      <td></td>\n",
       "    </tr>\n",
       "    <tr>\n",
       "      <th>1</th>\n",
       "      <td>1</td>\n",
       "      <td>國立政治大學</td>\n",
       "      <td>01111001</td>\n",
       "      <td>教育學系</td>\n",
       "      <td>D 日</td>\n",
       "      <td>M 碩士</td>\n",
       "      <td>27</td>\n",
       "      <td>0</td>\n",
       "      <td>7</td>\n",
       "      <td>30 臺北市</td>\n",
       "      <td>1 一般</td>\n",
       "      <td></td>\n",
       "    </tr>\n",
       "    <tr>\n",
       "      <th>2</th>\n",
       "      <td>1</td>\n",
       "      <td>國立政治大學</td>\n",
       "      <td>01111001</td>\n",
       "      <td>教育學系</td>\n",
       "      <td>D 日</td>\n",
       "      <td>B 學士</td>\n",
       "      <td>213</td>\n",
       "      <td>14</td>\n",
       "      <td>57</td>\n",
       "      <td>30 臺北市</td>\n",
       "      <td>1 一般</td>\n",
       "      <td></td>\n",
       "    </tr>\n",
       "    <tr>\n",
       "      <th>3</th>\n",
       "      <td>1</td>\n",
       "      <td>國立政治大學</td>\n",
       "      <td>01114005</td>\n",
       "      <td>教育行政與政策研究所</td>\n",
       "      <td>D 日</td>\n",
       "      <td>M 碩士</td>\n",
       "      <td>49</td>\n",
       "      <td>1</td>\n",
       "      <td>12</td>\n",
       "      <td>30 臺北市</td>\n",
       "      <td>1 一般</td>\n",
       "      <td></td>\n",
       "    </tr>\n",
       "    <tr>\n",
       "      <th>4</th>\n",
       "      <td>1</td>\n",
       "      <td>國立政治大學</td>\n",
       "      <td>01114006</td>\n",
       "      <td>學校行政碩士在職專班</td>\n",
       "      <td>N 職</td>\n",
       "      <td>M 碩士</td>\n",
       "      <td>79</td>\n",
       "      <td>0</td>\n",
       "      <td>25</td>\n",
       "      <td>30 臺北市</td>\n",
       "      <td>1 一般</td>\n",
       "      <td></td>\n",
       "    </tr>\n",
       "  </tbody>\n",
       "</table>\n",
       "</div>"
      ],
      "text/plain": [
       "   學校代碼    學校名稱      科系代碼        科系名稱 日間∕進修別   等級別  學生數  教師數  上學年度畢業生數  \\\n",
       "0     1  國立政治大學  01111001        教育學系    D 日  D 博士  117    0        18   \n",
       "1     1  國立政治大學  01111001        教育學系    D 日  M 碩士   27    0         7   \n",
       "2     1  國立政治大學  01111001        教育學系    D 日  B 學士  213   14        57   \n",
       "3     1  國立政治大學  01114005  教育行政與政策研究所    D 日  M 碩士   49    1        12   \n",
       "4     1  國立政治大學  01114006  學校行政碩士在職專班    N 職  M 碩士   79    0        25   \n",
       "\n",
       "     縣市名稱   體系別 seg  \n",
       "0  30 臺北市  1 一般      \n",
       "1  30 臺北市  1 一般      \n",
       "2  30 臺北市  1 一般      \n",
       "3  30 臺北市  1 一般      \n",
       "4  30 臺北市  1 一般      "
      ]
     },
     "execution_count": 95,
     "metadata": {},
     "output_type": "execute_result"
    }
   ],
   "source": [
    "orgdata['seg'] = \"\"\n",
    "orgdata.head()"
   ]
  },
  {
   "cell_type": "code",
   "execution_count": 120,
   "id": "c19d75ae",
   "metadata": {},
   "outputs": [
    {
     "name": "stderr",
     "output_type": "stream",
     "text": [
      "C:\\Users\\KAI\\AppData\\Local\\Temp\\ipykernel_7500\\2611441871.py:6: SettingWithCopyWarning:\n",
      "\n",
      "\n",
      "A value is trying to be set on a copy of a slice from a DataFrame\n",
      "\n",
      "See the caveats in the documentation: https://pandas.pydata.org/pandas-docs/stable/user_guide/indexing.html#returning-a-view-versus-a-copy\n",
      "\n"
     ]
    }
   ],
   "source": [
    "jieba.analyse.set_stop_words('stopwords.txt')\n",
    "index = 0\n",
    "for documents in orgdata['科系名稱']:\n",
    "    seg_list = jieba.analyse.extract_tags(documents, 150)\n",
    "    #seg_list = jieba.lcut(documents)\n",
    "    orgdata['seg'].iloc[index] = seg_list\n",
    "    index += 1"
   ]
  },
  {
   "cell_type": "code",
   "execution_count": 121,
   "id": "80354b77",
   "metadata": {},
   "outputs": [
    {
     "data": {
      "text/plain": [
       "0               [教育]\n",
       "1               [教育]\n",
       "2               [教育]\n",
       "3       [行政, 教育, 政策]\n",
       "4               [行政]\n",
       "            ...     \n",
       "9867    [休閒, 運動, 管理]\n",
       "9868        [通識, 科目]\n",
       "9869        [軍訓, 教官]\n",
       "9870            [師資]\n",
       "9871              []\n",
       "Name: seg, Length: 9872, dtype: object"
      ]
     },
     "execution_count": 121,
     "metadata": {},
     "output_type": "execute_result"
    }
   ],
   "source": [
    "orgdata['seg']"
   ]
  },
  {
   "cell_type": "code",
   "execution_count": 122,
   "id": "69a444bd",
   "metadata": {},
   "outputs": [],
   "source": [
    "words = list(orgdata['縣市名稱'])\n",
    "show_key = pd.DataFrame(Counter(words).keys())\n",
    "show_values = pd.DataFrame(Counter(words).values())"
   ]
  },
  {
   "cell_type": "code",
   "execution_count": 123,
   "id": "68c9bfba",
   "metadata": {},
   "outputs": [],
   "source": [
    "df = [show_key, show_values]"
   ]
  },
  {
   "cell_type": "code",
   "execution_count": 124,
   "id": "cc69ce2a",
   "metadata": {},
   "outputs": [
    {
     "data": {
      "text/html": [
       "<div>\n",
       "<style scoped>\n",
       "    .dataframe tbody tr th:only-of-type {\n",
       "        vertical-align: middle;\n",
       "    }\n",
       "\n",
       "    .dataframe tbody tr th {\n",
       "        vertical-align: top;\n",
       "    }\n",
       "\n",
       "    .dataframe thead th {\n",
       "        text-align: right;\n",
       "    }\n",
       "</style>\n",
       "<table border=\"1\" class=\"dataframe\">\n",
       "  <thead>\n",
       "    <tr style=\"text-align: right;\">\n",
       "      <th></th>\n",
       "      <th>縣市名稱</th>\n",
       "      <th>freguency</th>\n",
       "    </tr>\n",
       "  </thead>\n",
       "  <tbody>\n",
       "    <tr>\n",
       "      <th>0</th>\n",
       "      <td>30 臺北市</td>\n",
       "      <td>2008</td>\n",
       "    </tr>\n",
       "    <tr>\n",
       "      <th>1</th>\n",
       "      <td>18 新竹市</td>\n",
       "      <td>568</td>\n",
       "    </tr>\n",
       "    <tr>\n",
       "      <th>2</th>\n",
       "      <td>21 臺南市</td>\n",
       "      <td>307</td>\n",
       "    </tr>\n",
       "    <tr>\n",
       "      <th>3</th>\n",
       "      <td>19 臺中市</td>\n",
       "      <td>915</td>\n",
       "    </tr>\n",
       "    <tr>\n",
       "      <th>4</th>\n",
       "      <td>03 桃園市</td>\n",
       "      <td>696</td>\n",
       "    </tr>\n",
       "    <tr>\n",
       "      <th>5</th>\n",
       "      <td>50 高雄市</td>\n",
       "      <td>654</td>\n",
       "    </tr>\n",
       "    <tr>\n",
       "      <th>6</th>\n",
       "      <td>17 基隆市</td>\n",
       "      <td>151</td>\n",
       "    </tr>\n",
       "    <tr>\n",
       "      <th>7</th>\n",
       "      <td>10 嘉義縣</td>\n",
       "      <td>227</td>\n",
       "    </tr>\n",
       "    <tr>\n",
       "      <th>8</th>\n",
       "      <td>07 彰化縣</td>\n",
       "      <td>335</td>\n",
       "    </tr>\n",
       "    <tr>\n",
       "      <th>9</th>\n",
       "      <td>01 新北市</td>\n",
       "      <td>1028</td>\n",
       "    </tr>\n",
       "    <tr>\n",
       "      <th>10</th>\n",
       "      <td>20 嘉義市</td>\n",
       "      <td>149</td>\n",
       "    </tr>\n",
       "    <tr>\n",
       "      <th>11</th>\n",
       "      <td>15 花蓮縣</td>\n",
       "      <td>188</td>\n",
       "    </tr>\n",
       "    <tr>\n",
       "      <th>12</th>\n",
       "      <td>08 南投縣</td>\n",
       "      <td>120</td>\n",
       "    </tr>\n",
       "    <tr>\n",
       "      <th>13</th>\n",
       "      <td>09 雲林縣</td>\n",
       "      <td>206</td>\n",
       "    </tr>\n",
       "    <tr>\n",
       "      <th>14</th>\n",
       "      <td>13 屏東縣</td>\n",
       "      <td>346</td>\n",
       "    </tr>\n",
       "    <tr>\n",
       "      <th>15</th>\n",
       "      <td>14 臺東縣</td>\n",
       "      <td>79</td>\n",
       "    </tr>\n",
       "    <tr>\n",
       "      <th>16</th>\n",
       "      <td>02 宜蘭縣</td>\n",
       "      <td>112</td>\n",
       "    </tr>\n",
       "    <tr>\n",
       "      <th>17</th>\n",
       "      <td>05 苗栗縣</td>\n",
       "      <td>108</td>\n",
       "    </tr>\n",
       "    <tr>\n",
       "      <th>18</th>\n",
       "      <td>11 臺南市</td>\n",
       "      <td>598</td>\n",
       "    </tr>\n",
       "    <tr>\n",
       "      <th>19</th>\n",
       "      <td>16 澎湖縣</td>\n",
       "      <td>24</td>\n",
       "    </tr>\n",
       "    <tr>\n",
       "      <th>20</th>\n",
       "      <td>06 臺中市</td>\n",
       "      <td>421</td>\n",
       "    </tr>\n",
       "    <tr>\n",
       "      <th>21</th>\n",
       "      <td>71 金門縣</td>\n",
       "      <td>40</td>\n",
       "    </tr>\n",
       "    <tr>\n",
       "      <th>22</th>\n",
       "      <td>12 高雄市</td>\n",
       "      <td>492</td>\n",
       "    </tr>\n",
       "    <tr>\n",
       "      <th>23</th>\n",
       "      <td>04 新竹縣</td>\n",
       "      <td>100</td>\n",
       "    </tr>\n",
       "  </tbody>\n",
       "</table>\n",
       "</div>"
      ],
      "text/plain": [
       "      縣市名稱  freguency\n",
       "0   30 臺北市       2008\n",
       "1   18 新竹市        568\n",
       "2   21 臺南市        307\n",
       "3   19 臺中市        915\n",
       "4   03 桃園市        696\n",
       "5   50 高雄市        654\n",
       "6   17 基隆市        151\n",
       "7   10 嘉義縣        227\n",
       "8   07 彰化縣        335\n",
       "9   01 新北市       1028\n",
       "10  20 嘉義市        149\n",
       "11  15 花蓮縣        188\n",
       "12  08 南投縣        120\n",
       "13  09 雲林縣        206\n",
       "14  13 屏東縣        346\n",
       "15  14 臺東縣         79\n",
       "16  02 宜蘭縣        112\n",
       "17  05 苗栗縣        108\n",
       "18  11 臺南市        598\n",
       "19  16 澎湖縣         24\n",
       "20  06 臺中市        421\n",
       "21  71 金門縣         40\n",
       "22  12 高雄市        492\n",
       "23  04 新竹縣        100"
      ]
     },
     "execution_count": 124,
     "metadata": {},
     "output_type": "execute_result"
    }
   ],
   "source": [
    "result = pd.concat(df, axis=1)\n",
    "result.columns = ['縣市名稱', 'freguency']\n",
    "result"
   ]
  },
  {
   "cell_type": "code",
   "execution_count": 125,
   "id": "4a52c4f9",
   "metadata": {},
   "outputs": [
    {
     "data": {
      "application/vnd.plotly.v1+json": {
       "config": {
        "plotlyServerURL": "https://plot.ly"
       },
       "data": [
        {
         "alignmentgroup": "True",
         "hovertemplate": "縣市名稱=%{x}<br>freguency=%{y}<extra></extra>",
         "legendgroup": "",
         "marker": {
          "color": "#636efa",
          "pattern": {
           "shape": ""
          }
         },
         "name": "",
         "offsetgroup": "",
         "orientation": "v",
         "showlegend": false,
         "textposition": "auto",
         "type": "bar",
         "x": [
          "30 臺北市",
          "18 新竹市",
          "21 臺南市",
          "19 臺中市",
          "03 桃園市",
          "50 高雄市",
          "17 基隆市",
          "10 嘉義縣",
          "07 彰化縣",
          "01 新北市",
          "20 嘉義市",
          "15 花蓮縣",
          "08 南投縣",
          "09 雲林縣",
          "13 屏東縣",
          "14 臺東縣",
          "02 宜蘭縣",
          "05 苗栗縣",
          "11 臺南市",
          "16 澎湖縣",
          "06 臺中市",
          "71 金門縣",
          "12 高雄市",
          "04 新竹縣"
         ],
         "xaxis": "x",
         "y": [
          2008,
          568,
          307,
          915,
          696,
          654,
          151,
          227,
          335,
          1028,
          149,
          188,
          120,
          206,
          346,
          79,
          112,
          108,
          598,
          24,
          421,
          40,
          492,
          100
         ],
         "yaxis": "y"
        }
       ],
       "layout": {
        "barmode": "relative",
        "legend": {
         "tracegroupgap": 0
        },
        "template": {
         "data": {
          "bar": [
           {
            "error_x": {
             "color": "#2a3f5f"
            },
            "error_y": {
             "color": "#2a3f5f"
            },
            "marker": {
             "line": {
              "color": "#E5ECF6",
              "width": 0.5
             },
             "pattern": {
              "fillmode": "overlay",
              "size": 10,
              "solidity": 0.2
             }
            },
            "type": "bar"
           }
          ],
          "barpolar": [
           {
            "marker": {
             "line": {
              "color": "#E5ECF6",
              "width": 0.5
             },
             "pattern": {
              "fillmode": "overlay",
              "size": 10,
              "solidity": 0.2
             }
            },
            "type": "barpolar"
           }
          ],
          "carpet": [
           {
            "aaxis": {
             "endlinecolor": "#2a3f5f",
             "gridcolor": "white",
             "linecolor": "white",
             "minorgridcolor": "white",
             "startlinecolor": "#2a3f5f"
            },
            "baxis": {
             "endlinecolor": "#2a3f5f",
             "gridcolor": "white",
             "linecolor": "white",
             "minorgridcolor": "white",
             "startlinecolor": "#2a3f5f"
            },
            "type": "carpet"
           }
          ],
          "choropleth": [
           {
            "colorbar": {
             "outlinewidth": 0,
             "ticks": ""
            },
            "type": "choropleth"
           }
          ],
          "contour": [
           {
            "colorbar": {
             "outlinewidth": 0,
             "ticks": ""
            },
            "colorscale": [
             [
              0,
              "#0d0887"
             ],
             [
              0.1111111111111111,
              "#46039f"
             ],
             [
              0.2222222222222222,
              "#7201a8"
             ],
             [
              0.3333333333333333,
              "#9c179e"
             ],
             [
              0.4444444444444444,
              "#bd3786"
             ],
             [
              0.5555555555555556,
              "#d8576b"
             ],
             [
              0.6666666666666666,
              "#ed7953"
             ],
             [
              0.7777777777777778,
              "#fb9f3a"
             ],
             [
              0.8888888888888888,
              "#fdca26"
             ],
             [
              1,
              "#f0f921"
             ]
            ],
            "type": "contour"
           }
          ],
          "contourcarpet": [
           {
            "colorbar": {
             "outlinewidth": 0,
             "ticks": ""
            },
            "type": "contourcarpet"
           }
          ],
          "heatmap": [
           {
            "colorbar": {
             "outlinewidth": 0,
             "ticks": ""
            },
            "colorscale": [
             [
              0,
              "#0d0887"
             ],
             [
              0.1111111111111111,
              "#46039f"
             ],
             [
              0.2222222222222222,
              "#7201a8"
             ],
             [
              0.3333333333333333,
              "#9c179e"
             ],
             [
              0.4444444444444444,
              "#bd3786"
             ],
             [
              0.5555555555555556,
              "#d8576b"
             ],
             [
              0.6666666666666666,
              "#ed7953"
             ],
             [
              0.7777777777777778,
              "#fb9f3a"
             ],
             [
              0.8888888888888888,
              "#fdca26"
             ],
             [
              1,
              "#f0f921"
             ]
            ],
            "type": "heatmap"
           }
          ],
          "heatmapgl": [
           {
            "colorbar": {
             "outlinewidth": 0,
             "ticks": ""
            },
            "colorscale": [
             [
              0,
              "#0d0887"
             ],
             [
              0.1111111111111111,
              "#46039f"
             ],
             [
              0.2222222222222222,
              "#7201a8"
             ],
             [
              0.3333333333333333,
              "#9c179e"
             ],
             [
              0.4444444444444444,
              "#bd3786"
             ],
             [
              0.5555555555555556,
              "#d8576b"
             ],
             [
              0.6666666666666666,
              "#ed7953"
             ],
             [
              0.7777777777777778,
              "#fb9f3a"
             ],
             [
              0.8888888888888888,
              "#fdca26"
             ],
             [
              1,
              "#f0f921"
             ]
            ],
            "type": "heatmapgl"
           }
          ],
          "histogram": [
           {
            "marker": {
             "pattern": {
              "fillmode": "overlay",
              "size": 10,
              "solidity": 0.2
             }
            },
            "type": "histogram"
           }
          ],
          "histogram2d": [
           {
            "colorbar": {
             "outlinewidth": 0,
             "ticks": ""
            },
            "colorscale": [
             [
              0,
              "#0d0887"
             ],
             [
              0.1111111111111111,
              "#46039f"
             ],
             [
              0.2222222222222222,
              "#7201a8"
             ],
             [
              0.3333333333333333,
              "#9c179e"
             ],
             [
              0.4444444444444444,
              "#bd3786"
             ],
             [
              0.5555555555555556,
              "#d8576b"
             ],
             [
              0.6666666666666666,
              "#ed7953"
             ],
             [
              0.7777777777777778,
              "#fb9f3a"
             ],
             [
              0.8888888888888888,
              "#fdca26"
             ],
             [
              1,
              "#f0f921"
             ]
            ],
            "type": "histogram2d"
           }
          ],
          "histogram2dcontour": [
           {
            "colorbar": {
             "outlinewidth": 0,
             "ticks": ""
            },
            "colorscale": [
             [
              0,
              "#0d0887"
             ],
             [
              0.1111111111111111,
              "#46039f"
             ],
             [
              0.2222222222222222,
              "#7201a8"
             ],
             [
              0.3333333333333333,
              "#9c179e"
             ],
             [
              0.4444444444444444,
              "#bd3786"
             ],
             [
              0.5555555555555556,
              "#d8576b"
             ],
             [
              0.6666666666666666,
              "#ed7953"
             ],
             [
              0.7777777777777778,
              "#fb9f3a"
             ],
             [
              0.8888888888888888,
              "#fdca26"
             ],
             [
              1,
              "#f0f921"
             ]
            ],
            "type": "histogram2dcontour"
           }
          ],
          "mesh3d": [
           {
            "colorbar": {
             "outlinewidth": 0,
             "ticks": ""
            },
            "type": "mesh3d"
           }
          ],
          "parcoords": [
           {
            "line": {
             "colorbar": {
              "outlinewidth": 0,
              "ticks": ""
             }
            },
            "type": "parcoords"
           }
          ],
          "pie": [
           {
            "automargin": true,
            "type": "pie"
           }
          ],
          "scatter": [
           {
            "marker": {
             "colorbar": {
              "outlinewidth": 0,
              "ticks": ""
             }
            },
            "type": "scatter"
           }
          ],
          "scatter3d": [
           {
            "line": {
             "colorbar": {
              "outlinewidth": 0,
              "ticks": ""
             }
            },
            "marker": {
             "colorbar": {
              "outlinewidth": 0,
              "ticks": ""
             }
            },
            "type": "scatter3d"
           }
          ],
          "scattercarpet": [
           {
            "marker": {
             "colorbar": {
              "outlinewidth": 0,
              "ticks": ""
             }
            },
            "type": "scattercarpet"
           }
          ],
          "scattergeo": [
           {
            "marker": {
             "colorbar": {
              "outlinewidth": 0,
              "ticks": ""
             }
            },
            "type": "scattergeo"
           }
          ],
          "scattergl": [
           {
            "marker": {
             "colorbar": {
              "outlinewidth": 0,
              "ticks": ""
             }
            },
            "type": "scattergl"
           }
          ],
          "scattermapbox": [
           {
            "marker": {
             "colorbar": {
              "outlinewidth": 0,
              "ticks": ""
             }
            },
            "type": "scattermapbox"
           }
          ],
          "scatterpolar": [
           {
            "marker": {
             "colorbar": {
              "outlinewidth": 0,
              "ticks": ""
             }
            },
            "type": "scatterpolar"
           }
          ],
          "scatterpolargl": [
           {
            "marker": {
             "colorbar": {
              "outlinewidth": 0,
              "ticks": ""
             }
            },
            "type": "scatterpolargl"
           }
          ],
          "scatterternary": [
           {
            "marker": {
             "colorbar": {
              "outlinewidth": 0,
              "ticks": ""
             }
            },
            "type": "scatterternary"
           }
          ],
          "surface": [
           {
            "colorbar": {
             "outlinewidth": 0,
             "ticks": ""
            },
            "colorscale": [
             [
              0,
              "#0d0887"
             ],
             [
              0.1111111111111111,
              "#46039f"
             ],
             [
              0.2222222222222222,
              "#7201a8"
             ],
             [
              0.3333333333333333,
              "#9c179e"
             ],
             [
              0.4444444444444444,
              "#bd3786"
             ],
             [
              0.5555555555555556,
              "#d8576b"
             ],
             [
              0.6666666666666666,
              "#ed7953"
             ],
             [
              0.7777777777777778,
              "#fb9f3a"
             ],
             [
              0.8888888888888888,
              "#fdca26"
             ],
             [
              1,
              "#f0f921"
             ]
            ],
            "type": "surface"
           }
          ],
          "table": [
           {
            "cells": {
             "fill": {
              "color": "#EBF0F8"
             },
             "line": {
              "color": "white"
             }
            },
            "header": {
             "fill": {
              "color": "#C8D4E3"
             },
             "line": {
              "color": "white"
             }
            },
            "type": "table"
           }
          ]
         },
         "layout": {
          "annotationdefaults": {
           "arrowcolor": "#2a3f5f",
           "arrowhead": 0,
           "arrowwidth": 1
          },
          "autotypenumbers": "strict",
          "coloraxis": {
           "colorbar": {
            "outlinewidth": 0,
            "ticks": ""
           }
          },
          "colorscale": {
           "diverging": [
            [
             0,
             "#8e0152"
            ],
            [
             0.1,
             "#c51b7d"
            ],
            [
             0.2,
             "#de77ae"
            ],
            [
             0.3,
             "#f1b6da"
            ],
            [
             0.4,
             "#fde0ef"
            ],
            [
             0.5,
             "#f7f7f7"
            ],
            [
             0.6,
             "#e6f5d0"
            ],
            [
             0.7,
             "#b8e186"
            ],
            [
             0.8,
             "#7fbc41"
            ],
            [
             0.9,
             "#4d9221"
            ],
            [
             1,
             "#276419"
            ]
           ],
           "sequential": [
            [
             0,
             "#0d0887"
            ],
            [
             0.1111111111111111,
             "#46039f"
            ],
            [
             0.2222222222222222,
             "#7201a8"
            ],
            [
             0.3333333333333333,
             "#9c179e"
            ],
            [
             0.4444444444444444,
             "#bd3786"
            ],
            [
             0.5555555555555556,
             "#d8576b"
            ],
            [
             0.6666666666666666,
             "#ed7953"
            ],
            [
             0.7777777777777778,
             "#fb9f3a"
            ],
            [
             0.8888888888888888,
             "#fdca26"
            ],
            [
             1,
             "#f0f921"
            ]
           ],
           "sequentialminus": [
            [
             0,
             "#0d0887"
            ],
            [
             0.1111111111111111,
             "#46039f"
            ],
            [
             0.2222222222222222,
             "#7201a8"
            ],
            [
             0.3333333333333333,
             "#9c179e"
            ],
            [
             0.4444444444444444,
             "#bd3786"
            ],
            [
             0.5555555555555556,
             "#d8576b"
            ],
            [
             0.6666666666666666,
             "#ed7953"
            ],
            [
             0.7777777777777778,
             "#fb9f3a"
            ],
            [
             0.8888888888888888,
             "#fdca26"
            ],
            [
             1,
             "#f0f921"
            ]
           ]
          },
          "colorway": [
           "#636efa",
           "#EF553B",
           "#00cc96",
           "#ab63fa",
           "#FFA15A",
           "#19d3f3",
           "#FF6692",
           "#B6E880",
           "#FF97FF",
           "#FECB52"
          ],
          "font": {
           "color": "#2a3f5f"
          },
          "geo": {
           "bgcolor": "white",
           "lakecolor": "white",
           "landcolor": "#E5ECF6",
           "showlakes": true,
           "showland": true,
           "subunitcolor": "white"
          },
          "hoverlabel": {
           "align": "left"
          },
          "hovermode": "closest",
          "mapbox": {
           "style": "light"
          },
          "paper_bgcolor": "white",
          "plot_bgcolor": "#E5ECF6",
          "polar": {
           "angularaxis": {
            "gridcolor": "white",
            "linecolor": "white",
            "ticks": ""
           },
           "bgcolor": "#E5ECF6",
           "radialaxis": {
            "gridcolor": "white",
            "linecolor": "white",
            "ticks": ""
           }
          },
          "scene": {
           "xaxis": {
            "backgroundcolor": "#E5ECF6",
            "gridcolor": "white",
            "gridwidth": 2,
            "linecolor": "white",
            "showbackground": true,
            "ticks": "",
            "zerolinecolor": "white"
           },
           "yaxis": {
            "backgroundcolor": "#E5ECF6",
            "gridcolor": "white",
            "gridwidth": 2,
            "linecolor": "white",
            "showbackground": true,
            "ticks": "",
            "zerolinecolor": "white"
           },
           "zaxis": {
            "backgroundcolor": "#E5ECF6",
            "gridcolor": "white",
            "gridwidth": 2,
            "linecolor": "white",
            "showbackground": true,
            "ticks": "",
            "zerolinecolor": "white"
           }
          },
          "shapedefaults": {
           "line": {
            "color": "#2a3f5f"
           }
          },
          "ternary": {
           "aaxis": {
            "gridcolor": "white",
            "linecolor": "white",
            "ticks": ""
           },
           "baxis": {
            "gridcolor": "white",
            "linecolor": "white",
            "ticks": ""
           },
           "bgcolor": "#E5ECF6",
           "caxis": {
            "gridcolor": "white",
            "linecolor": "white",
            "ticks": ""
           }
          },
          "title": {
           "x": 0.05
          },
          "xaxis": {
           "automargin": true,
           "gridcolor": "white",
           "linecolor": "white",
           "ticks": "",
           "title": {
            "standoff": 15
           },
           "zerolinecolor": "white",
           "zerolinewidth": 2
          },
          "yaxis": {
           "automargin": true,
           "gridcolor": "white",
           "linecolor": "white",
           "ticks": "",
           "title": {
            "standoff": 15
           },
           "zerolinecolor": "white",
           "zerolinewidth": 2
          }
         }
        },
        "title": {
         "text": "各縣市之校系數量"
        },
        "xaxis": {
         "anchor": "y",
         "domain": [
          0,
          1
         ],
         "title": {
          "text": "縣市名稱"
         }
        },
        "yaxis": {
         "anchor": "x",
         "domain": [
          0,
          1
         ],
         "title": {
          "text": "freguency"
         }
        }
       }
      },
      "text/html": [
       "<div>                            <div id=\"f3a9b837-4828-4fe4-9e88-92bd3bbf81e6\" class=\"plotly-graph-div\" style=\"height:525px; width:100%;\"></div>            <script type=\"text/javascript\">                require([\"plotly\"], function(Plotly) {                    window.PLOTLYENV=window.PLOTLYENV || {};                                    if (document.getElementById(\"f3a9b837-4828-4fe4-9e88-92bd3bbf81e6\")) {                    Plotly.newPlot(                        \"f3a9b837-4828-4fe4-9e88-92bd3bbf81e6\",                        [{\"alignmentgroup\":\"True\",\"hovertemplate\":\"\\u7e23\\u5e02\\u540d\\u7a31=%{x}<br>freguency=%{y}<extra></extra>\",\"legendgroup\":\"\",\"marker\":{\"color\":\"#636efa\",\"pattern\":{\"shape\":\"\"}},\"name\":\"\",\"offsetgroup\":\"\",\"orientation\":\"v\",\"showlegend\":false,\"textposition\":\"auto\",\"x\":[\"30 \\u81fa\\u5317\\u5e02\",\"18 \\u65b0\\u7af9\\u5e02\",\"21 \\u81fa\\u5357\\u5e02\",\"19 \\u81fa\\u4e2d\\u5e02\",\"03 \\u6843\\u5712\\u5e02\",\"50 \\u9ad8\\u96c4\\u5e02\",\"17 \\u57fa\\u9686\\u5e02\",\"10 \\u5609\\u7fa9\\u7e23\",\"07 \\u5f70\\u5316\\u7e23\",\"01 \\u65b0\\u5317\\u5e02\",\"20 \\u5609\\u7fa9\\u5e02\",\"15 \\u82b1\\u84ee\\u7e23\",\"08 \\u5357\\u6295\\u7e23\",\"09 \\u96f2\\u6797\\u7e23\",\"13 \\u5c4f\\u6771\\u7e23\",\"14 \\u81fa\\u6771\\u7e23\",\"02 \\u5b9c\\u862d\\u7e23\",\"05 \\u82d7\\u6817\\u7e23\",\"11 \\u81fa\\u5357\\u5e02\",\"16 \\u6f8e\\u6e56\\u7e23\",\"06 \\u81fa\\u4e2d\\u5e02\",\"71 \\u91d1\\u9580\\u7e23\",\"12 \\u9ad8\\u96c4\\u5e02\",\"04 \\u65b0\\u7af9\\u7e23\"],\"xaxis\":\"x\",\"y\":[2008,568,307,915,696,654,151,227,335,1028,149,188,120,206,346,79,112,108,598,24,421,40,492,100],\"yaxis\":\"y\",\"type\":\"bar\"}],                        {\"template\":{\"data\":{\"bar\":[{\"error_x\":{\"color\":\"#2a3f5f\"},\"error_y\":{\"color\":\"#2a3f5f\"},\"marker\":{\"line\":{\"color\":\"#E5ECF6\",\"width\":0.5},\"pattern\":{\"fillmode\":\"overlay\",\"size\":10,\"solidity\":0.2}},\"type\":\"bar\"}],\"barpolar\":[{\"marker\":{\"line\":{\"color\":\"#E5ECF6\",\"width\":0.5},\"pattern\":{\"fillmode\":\"overlay\",\"size\":10,\"solidity\":0.2}},\"type\":\"barpolar\"}],\"carpet\":[{\"aaxis\":{\"endlinecolor\":\"#2a3f5f\",\"gridcolor\":\"white\",\"linecolor\":\"white\",\"minorgridcolor\":\"white\",\"startlinecolor\":\"#2a3f5f\"},\"baxis\":{\"endlinecolor\":\"#2a3f5f\",\"gridcolor\":\"white\",\"linecolor\":\"white\",\"minorgridcolor\":\"white\",\"startlinecolor\":\"#2a3f5f\"},\"type\":\"carpet\"}],\"choropleth\":[{\"colorbar\":{\"outlinewidth\":0,\"ticks\":\"\"},\"type\":\"choropleth\"}],\"contour\":[{\"colorbar\":{\"outlinewidth\":0,\"ticks\":\"\"},\"colorscale\":[[0.0,\"#0d0887\"],[0.1111111111111111,\"#46039f\"],[0.2222222222222222,\"#7201a8\"],[0.3333333333333333,\"#9c179e\"],[0.4444444444444444,\"#bd3786\"],[0.5555555555555556,\"#d8576b\"],[0.6666666666666666,\"#ed7953\"],[0.7777777777777778,\"#fb9f3a\"],[0.8888888888888888,\"#fdca26\"],[1.0,\"#f0f921\"]],\"type\":\"contour\"}],\"contourcarpet\":[{\"colorbar\":{\"outlinewidth\":0,\"ticks\":\"\"},\"type\":\"contourcarpet\"}],\"heatmap\":[{\"colorbar\":{\"outlinewidth\":0,\"ticks\":\"\"},\"colorscale\":[[0.0,\"#0d0887\"],[0.1111111111111111,\"#46039f\"],[0.2222222222222222,\"#7201a8\"],[0.3333333333333333,\"#9c179e\"],[0.4444444444444444,\"#bd3786\"],[0.5555555555555556,\"#d8576b\"],[0.6666666666666666,\"#ed7953\"],[0.7777777777777778,\"#fb9f3a\"],[0.8888888888888888,\"#fdca26\"],[1.0,\"#f0f921\"]],\"type\":\"heatmap\"}],\"heatmapgl\":[{\"colorbar\":{\"outlinewidth\":0,\"ticks\":\"\"},\"colorscale\":[[0.0,\"#0d0887\"],[0.1111111111111111,\"#46039f\"],[0.2222222222222222,\"#7201a8\"],[0.3333333333333333,\"#9c179e\"],[0.4444444444444444,\"#bd3786\"],[0.5555555555555556,\"#d8576b\"],[0.6666666666666666,\"#ed7953\"],[0.7777777777777778,\"#fb9f3a\"],[0.8888888888888888,\"#fdca26\"],[1.0,\"#f0f921\"]],\"type\":\"heatmapgl\"}],\"histogram\":[{\"marker\":{\"pattern\":{\"fillmode\":\"overlay\",\"size\":10,\"solidity\":0.2}},\"type\":\"histogram\"}],\"histogram2d\":[{\"colorbar\":{\"outlinewidth\":0,\"ticks\":\"\"},\"colorscale\":[[0.0,\"#0d0887\"],[0.1111111111111111,\"#46039f\"],[0.2222222222222222,\"#7201a8\"],[0.3333333333333333,\"#9c179e\"],[0.4444444444444444,\"#bd3786\"],[0.5555555555555556,\"#d8576b\"],[0.6666666666666666,\"#ed7953\"],[0.7777777777777778,\"#fb9f3a\"],[0.8888888888888888,\"#fdca26\"],[1.0,\"#f0f921\"]],\"type\":\"histogram2d\"}],\"histogram2dcontour\":[{\"colorbar\":{\"outlinewidth\":0,\"ticks\":\"\"},\"colorscale\":[[0.0,\"#0d0887\"],[0.1111111111111111,\"#46039f\"],[0.2222222222222222,\"#7201a8\"],[0.3333333333333333,\"#9c179e\"],[0.4444444444444444,\"#bd3786\"],[0.5555555555555556,\"#d8576b\"],[0.6666666666666666,\"#ed7953\"],[0.7777777777777778,\"#fb9f3a\"],[0.8888888888888888,\"#fdca26\"],[1.0,\"#f0f921\"]],\"type\":\"histogram2dcontour\"}],\"mesh3d\":[{\"colorbar\":{\"outlinewidth\":0,\"ticks\":\"\"},\"type\":\"mesh3d\"}],\"parcoords\":[{\"line\":{\"colorbar\":{\"outlinewidth\":0,\"ticks\":\"\"}},\"type\":\"parcoords\"}],\"pie\":[{\"automargin\":true,\"type\":\"pie\"}],\"scatter\":[{\"marker\":{\"colorbar\":{\"outlinewidth\":0,\"ticks\":\"\"}},\"type\":\"scatter\"}],\"scatter3d\":[{\"line\":{\"colorbar\":{\"outlinewidth\":0,\"ticks\":\"\"}},\"marker\":{\"colorbar\":{\"outlinewidth\":0,\"ticks\":\"\"}},\"type\":\"scatter3d\"}],\"scattercarpet\":[{\"marker\":{\"colorbar\":{\"outlinewidth\":0,\"ticks\":\"\"}},\"type\":\"scattercarpet\"}],\"scattergeo\":[{\"marker\":{\"colorbar\":{\"outlinewidth\":0,\"ticks\":\"\"}},\"type\":\"scattergeo\"}],\"scattergl\":[{\"marker\":{\"colorbar\":{\"outlinewidth\":0,\"ticks\":\"\"}},\"type\":\"scattergl\"}],\"scattermapbox\":[{\"marker\":{\"colorbar\":{\"outlinewidth\":0,\"ticks\":\"\"}},\"type\":\"scattermapbox\"}],\"scatterpolar\":[{\"marker\":{\"colorbar\":{\"outlinewidth\":0,\"ticks\":\"\"}},\"type\":\"scatterpolar\"}],\"scatterpolargl\":[{\"marker\":{\"colorbar\":{\"outlinewidth\":0,\"ticks\":\"\"}},\"type\":\"scatterpolargl\"}],\"scatterternary\":[{\"marker\":{\"colorbar\":{\"outlinewidth\":0,\"ticks\":\"\"}},\"type\":\"scatterternary\"}],\"surface\":[{\"colorbar\":{\"outlinewidth\":0,\"ticks\":\"\"},\"colorscale\":[[0.0,\"#0d0887\"],[0.1111111111111111,\"#46039f\"],[0.2222222222222222,\"#7201a8\"],[0.3333333333333333,\"#9c179e\"],[0.4444444444444444,\"#bd3786\"],[0.5555555555555556,\"#d8576b\"],[0.6666666666666666,\"#ed7953\"],[0.7777777777777778,\"#fb9f3a\"],[0.8888888888888888,\"#fdca26\"],[1.0,\"#f0f921\"]],\"type\":\"surface\"}],\"table\":[{\"cells\":{\"fill\":{\"color\":\"#EBF0F8\"},\"line\":{\"color\":\"white\"}},\"header\":{\"fill\":{\"color\":\"#C8D4E3\"},\"line\":{\"color\":\"white\"}},\"type\":\"table\"}]},\"layout\":{\"annotationdefaults\":{\"arrowcolor\":\"#2a3f5f\",\"arrowhead\":0,\"arrowwidth\":1},\"autotypenumbers\":\"strict\",\"coloraxis\":{\"colorbar\":{\"outlinewidth\":0,\"ticks\":\"\"}},\"colorscale\":{\"diverging\":[[0,\"#8e0152\"],[0.1,\"#c51b7d\"],[0.2,\"#de77ae\"],[0.3,\"#f1b6da\"],[0.4,\"#fde0ef\"],[0.5,\"#f7f7f7\"],[0.6,\"#e6f5d0\"],[0.7,\"#b8e186\"],[0.8,\"#7fbc41\"],[0.9,\"#4d9221\"],[1,\"#276419\"]],\"sequential\":[[0.0,\"#0d0887\"],[0.1111111111111111,\"#46039f\"],[0.2222222222222222,\"#7201a8\"],[0.3333333333333333,\"#9c179e\"],[0.4444444444444444,\"#bd3786\"],[0.5555555555555556,\"#d8576b\"],[0.6666666666666666,\"#ed7953\"],[0.7777777777777778,\"#fb9f3a\"],[0.8888888888888888,\"#fdca26\"],[1.0,\"#f0f921\"]],\"sequentialminus\":[[0.0,\"#0d0887\"],[0.1111111111111111,\"#46039f\"],[0.2222222222222222,\"#7201a8\"],[0.3333333333333333,\"#9c179e\"],[0.4444444444444444,\"#bd3786\"],[0.5555555555555556,\"#d8576b\"],[0.6666666666666666,\"#ed7953\"],[0.7777777777777778,\"#fb9f3a\"],[0.8888888888888888,\"#fdca26\"],[1.0,\"#f0f921\"]]},\"colorway\":[\"#636efa\",\"#EF553B\",\"#00cc96\",\"#ab63fa\",\"#FFA15A\",\"#19d3f3\",\"#FF6692\",\"#B6E880\",\"#FF97FF\",\"#FECB52\"],\"font\":{\"color\":\"#2a3f5f\"},\"geo\":{\"bgcolor\":\"white\",\"lakecolor\":\"white\",\"landcolor\":\"#E5ECF6\",\"showlakes\":true,\"showland\":true,\"subunitcolor\":\"white\"},\"hoverlabel\":{\"align\":\"left\"},\"hovermode\":\"closest\",\"mapbox\":{\"style\":\"light\"},\"paper_bgcolor\":\"white\",\"plot_bgcolor\":\"#E5ECF6\",\"polar\":{\"angularaxis\":{\"gridcolor\":\"white\",\"linecolor\":\"white\",\"ticks\":\"\"},\"bgcolor\":\"#E5ECF6\",\"radialaxis\":{\"gridcolor\":\"white\",\"linecolor\":\"white\",\"ticks\":\"\"}},\"scene\":{\"xaxis\":{\"backgroundcolor\":\"#E5ECF6\",\"gridcolor\":\"white\",\"gridwidth\":2,\"linecolor\":\"white\",\"showbackground\":true,\"ticks\":\"\",\"zerolinecolor\":\"white\"},\"yaxis\":{\"backgroundcolor\":\"#E5ECF6\",\"gridcolor\":\"white\",\"gridwidth\":2,\"linecolor\":\"white\",\"showbackground\":true,\"ticks\":\"\",\"zerolinecolor\":\"white\"},\"zaxis\":{\"backgroundcolor\":\"#E5ECF6\",\"gridcolor\":\"white\",\"gridwidth\":2,\"linecolor\":\"white\",\"showbackground\":true,\"ticks\":\"\",\"zerolinecolor\":\"white\"}},\"shapedefaults\":{\"line\":{\"color\":\"#2a3f5f\"}},\"ternary\":{\"aaxis\":{\"gridcolor\":\"white\",\"linecolor\":\"white\",\"ticks\":\"\"},\"baxis\":{\"gridcolor\":\"white\",\"linecolor\":\"white\",\"ticks\":\"\"},\"bgcolor\":\"#E5ECF6\",\"caxis\":{\"gridcolor\":\"white\",\"linecolor\":\"white\",\"ticks\":\"\"}},\"title\":{\"x\":0.05},\"xaxis\":{\"automargin\":true,\"gridcolor\":\"white\",\"linecolor\":\"white\",\"ticks\":\"\",\"title\":{\"standoff\":15},\"zerolinecolor\":\"white\",\"zerolinewidth\":2},\"yaxis\":{\"automargin\":true,\"gridcolor\":\"white\",\"linecolor\":\"white\",\"ticks\":\"\",\"title\":{\"standoff\":15},\"zerolinecolor\":\"white\",\"zerolinewidth\":2}}},\"xaxis\":{\"anchor\":\"y\",\"domain\":[0.0,1.0],\"title\":{\"text\":\"\\u7e23\\u5e02\\u540d\\u7a31\"}},\"yaxis\":{\"anchor\":\"x\",\"domain\":[0.0,1.0],\"title\":{\"text\":\"freguency\"}},\"legend\":{\"tracegroupgap\":0},\"title\":{\"text\":\"\\u5404\\u7e23\\u5e02\\u4e4b\\u6821\\u7cfb\\u6578\\u91cf\"},\"barmode\":\"relative\"},                        {\"responsive\": true}                    ).then(function(){\n",
       "                            \n",
       "var gd = document.getElementById('f3a9b837-4828-4fe4-9e88-92bd3bbf81e6');\n",
       "var x = new MutationObserver(function (mutations, observer) {{\n",
       "        var display = window.getComputedStyle(gd).display;\n",
       "        if (!display || display === 'none') {{\n",
       "            console.log([gd, 'removed!']);\n",
       "            Plotly.purge(gd);\n",
       "            observer.disconnect();\n",
       "        }}\n",
       "}});\n",
       "\n",
       "// Listen for the removal of the full notebook cells\n",
       "var notebookContainer = gd.closest('#notebook-container');\n",
       "if (notebookContainer) {{\n",
       "    x.observe(notebookContainer, {childList: true});\n",
       "}}\n",
       "\n",
       "// Listen for the clearing of the current output cell\n",
       "var outputEl = gd.closest('.output');\n",
       "if (outputEl) {{\n",
       "    x.observe(outputEl, {childList: true});\n",
       "}}\n",
       "\n",
       "                        })                };                });            </script>        </div>"
      ]
     },
     "metadata": {},
     "output_type": "display_data"
    }
   ],
   "source": [
    "import plotly.express as px\n",
    "import pandas as pd\n",
    "\n",
    "px.bar(result, x='縣市名稱', y='freguency', title='各縣市之校系數量')"
   ]
  },
  {
   "cell_type": "code",
   "execution_count": 126,
   "id": "b79044e5",
   "metadata": {},
   "outputs": [
    {
     "data": {
      "text/html": [
       "<div>\n",
       "<style scoped>\n",
       "    .dataframe tbody tr th:only-of-type {\n",
       "        vertical-align: middle;\n",
       "    }\n",
       "\n",
       "    .dataframe tbody tr th {\n",
       "        vertical-align: top;\n",
       "    }\n",
       "\n",
       "    .dataframe thead th {\n",
       "        text-align: right;\n",
       "    }\n",
       "</style>\n",
       "<table border=\"1\" class=\"dataframe\">\n",
       "  <thead>\n",
       "    <tr style=\"text-align: right;\">\n",
       "      <th></th>\n",
       "      <th>學校代碼</th>\n",
       "      <th>學校名稱</th>\n",
       "      <th>科系代碼</th>\n",
       "      <th>科系名稱</th>\n",
       "      <th>日間∕進修別</th>\n",
       "      <th>等級別</th>\n",
       "      <th>學生數</th>\n",
       "      <th>教師數</th>\n",
       "      <th>上學年度畢業生數</th>\n",
       "      <th>縣市名稱</th>\n",
       "      <th>體系別</th>\n",
       "      <th>seg</th>\n",
       "    </tr>\n",
       "  </thead>\n",
       "  <tbody>\n",
       "    <tr>\n",
       "      <th>0</th>\n",
       "      <td>1</td>\n",
       "      <td>國立政治大學</td>\n",
       "      <td>01111001</td>\n",
       "      <td>教育學系</td>\n",
       "      <td>D 日</td>\n",
       "      <td>D 博士</td>\n",
       "      <td>117</td>\n",
       "      <td>0</td>\n",
       "      <td>18</td>\n",
       "      <td>30 臺北市</td>\n",
       "      <td>1 一般</td>\n",
       "      <td>[教育]</td>\n",
       "    </tr>\n",
       "    <tr>\n",
       "      <th>1</th>\n",
       "      <td>1</td>\n",
       "      <td>國立政治大學</td>\n",
       "      <td>01111001</td>\n",
       "      <td>教育學系</td>\n",
       "      <td>D 日</td>\n",
       "      <td>M 碩士</td>\n",
       "      <td>27</td>\n",
       "      <td>0</td>\n",
       "      <td>7</td>\n",
       "      <td>30 臺北市</td>\n",
       "      <td>1 一般</td>\n",
       "      <td>[教育]</td>\n",
       "    </tr>\n",
       "    <tr>\n",
       "      <th>2</th>\n",
       "      <td>1</td>\n",
       "      <td>國立政治大學</td>\n",
       "      <td>01111001</td>\n",
       "      <td>教育學系</td>\n",
       "      <td>D 日</td>\n",
       "      <td>B 學士</td>\n",
       "      <td>213</td>\n",
       "      <td>14</td>\n",
       "      <td>57</td>\n",
       "      <td>30 臺北市</td>\n",
       "      <td>1 一般</td>\n",
       "      <td>[教育]</td>\n",
       "    </tr>\n",
       "    <tr>\n",
       "      <th>3</th>\n",
       "      <td>1</td>\n",
       "      <td>國立政治大學</td>\n",
       "      <td>01114005</td>\n",
       "      <td>教育行政與政策研究所</td>\n",
       "      <td>D 日</td>\n",
       "      <td>M 碩士</td>\n",
       "      <td>49</td>\n",
       "      <td>1</td>\n",
       "      <td>12</td>\n",
       "      <td>30 臺北市</td>\n",
       "      <td>1 一般</td>\n",
       "      <td>[行政, 教育, 政策]</td>\n",
       "    </tr>\n",
       "    <tr>\n",
       "      <th>4</th>\n",
       "      <td>1</td>\n",
       "      <td>國立政治大學</td>\n",
       "      <td>01114006</td>\n",
       "      <td>學校行政碩士在職專班</td>\n",
       "      <td>N 職</td>\n",
       "      <td>M 碩士</td>\n",
       "      <td>79</td>\n",
       "      <td>0</td>\n",
       "      <td>25</td>\n",
       "      <td>30 臺北市</td>\n",
       "      <td>1 一般</td>\n",
       "      <td>[行政]</td>\n",
       "    </tr>\n",
       "    <tr>\n",
       "      <th>...</th>\n",
       "      <td>...</td>\n",
       "      <td>...</td>\n",
       "      <td>...</td>\n",
       "      <td>...</td>\n",
       "      <td>...</td>\n",
       "      <td>...</td>\n",
       "      <td>...</td>\n",
       "      <td>...</td>\n",
       "      <td>...</td>\n",
       "      <td>...</td>\n",
       "      <td>...</td>\n",
       "      <td>...</td>\n",
       "    </tr>\n",
       "    <tr>\n",
       "      <th>9867</th>\n",
       "      <td>3002</td>\n",
       "      <td>臺北市立大學</td>\n",
       "      <td>10152050</td>\n",
       "      <td>休閒運動管理學系</td>\n",
       "      <td>D 日</td>\n",
       "      <td>B 學士</td>\n",
       "      <td>231</td>\n",
       "      <td>8</td>\n",
       "      <td>66</td>\n",
       "      <td>30 臺北市</td>\n",
       "      <td>1 一般</td>\n",
       "      <td>[休閒, 運動, 管理]</td>\n",
       "    </tr>\n",
       "    <tr>\n",
       "      <th>9868</th>\n",
       "      <td>3002</td>\n",
       "      <td>臺北市立大學</td>\n",
       "      <td>99999Z01</td>\n",
       "      <td>通識及共同科目</td>\n",
       "      <td>D 日</td>\n",
       "      <td>NaN</td>\n",
       "      <td>0</td>\n",
       "      <td>6</td>\n",
       "      <td>0</td>\n",
       "      <td>30 臺北市</td>\n",
       "      <td>1 一般</td>\n",
       "      <td>[通識, 科目]</td>\n",
       "    </tr>\n",
       "    <tr>\n",
       "      <th>9869</th>\n",
       "      <td>3002</td>\n",
       "      <td>臺北市立大學</td>\n",
       "      <td>99999Z03</td>\n",
       "      <td>軍訓教官</td>\n",
       "      <td>D 日</td>\n",
       "      <td>NaN</td>\n",
       "      <td>0</td>\n",
       "      <td>3</td>\n",
       "      <td>0</td>\n",
       "      <td>30 臺北市</td>\n",
       "      <td>1 一般</td>\n",
       "      <td>[軍訓, 教官]</td>\n",
       "    </tr>\n",
       "    <tr>\n",
       "      <th>9870</th>\n",
       "      <td>3002</td>\n",
       "      <td>臺北市立大學</td>\n",
       "      <td>99999Z05</td>\n",
       "      <td>師資培育中心</td>\n",
       "      <td>D 日</td>\n",
       "      <td>NaN</td>\n",
       "      <td>0</td>\n",
       "      <td>7</td>\n",
       "      <td>0</td>\n",
       "      <td>30 臺北市</td>\n",
       "      <td>1 一般</td>\n",
       "      <td>[師資]</td>\n",
       "    </tr>\n",
       "    <tr>\n",
       "      <th>9871</th>\n",
       "      <td>3002</td>\n",
       "      <td>臺北市立大學</td>\n",
       "      <td>99999Z07</td>\n",
       "      <td>體育室</td>\n",
       "      <td>D 日</td>\n",
       "      <td>NaN</td>\n",
       "      <td>0</td>\n",
       "      <td>2</td>\n",
       "      <td>0</td>\n",
       "      <td>30 臺北市</td>\n",
       "      <td>1 一般</td>\n",
       "      <td>[]</td>\n",
       "    </tr>\n",
       "  </tbody>\n",
       "</table>\n",
       "<p>2008 rows × 12 columns</p>\n",
       "</div>"
      ],
      "text/plain": [
       "      學校代碼    學校名稱      科系代碼        科系名稱 日間∕進修別   等級別  學生數  教師數  上學年度畢業生數  \\\n",
       "0        1  國立政治大學  01111001        教育學系    D 日  D 博士  117    0        18   \n",
       "1        1  國立政治大學  01111001        教育學系    D 日  M 碩士   27    0         7   \n",
       "2        1  國立政治大學  01111001        教育學系    D 日  B 學士  213   14        57   \n",
       "3        1  國立政治大學  01114005  教育行政與政策研究所    D 日  M 碩士   49    1        12   \n",
       "4        1  國立政治大學  01114006  學校行政碩士在職專班    N 職  M 碩士   79    0        25   \n",
       "...    ...     ...       ...         ...    ...   ...  ...  ...       ...   \n",
       "9867  3002  臺北市立大學  10152050    休閒運動管理學系    D 日  B 學士  231    8        66   \n",
       "9868  3002  臺北市立大學  99999Z01     通識及共同科目    D 日   NaN    0    6         0   \n",
       "9869  3002  臺北市立大學  99999Z03        軍訓教官    D 日   NaN    0    3         0   \n",
       "9870  3002  臺北市立大學  99999Z05      師資培育中心    D 日   NaN    0    7         0   \n",
       "9871  3002  臺北市立大學  99999Z07         體育室    D 日   NaN    0    2         0   \n",
       "\n",
       "        縣市名稱   體系別           seg  \n",
       "0     30 臺北市  1 一般          [教育]  \n",
       "1     30 臺北市  1 一般          [教育]  \n",
       "2     30 臺北市  1 一般          [教育]  \n",
       "3     30 臺北市  1 一般  [行政, 教育, 政策]  \n",
       "4     30 臺北市  1 一般          [行政]  \n",
       "...      ...   ...           ...  \n",
       "9867  30 臺北市  1 一般  [休閒, 運動, 管理]  \n",
       "9868  30 臺北市  1 一般      [通識, 科目]  \n",
       "9869  30 臺北市  1 一般      [軍訓, 教官]  \n",
       "9870  30 臺北市  1 一般          [師資]  \n",
       "9871  30 臺北市  1 一般            []  \n",
       "\n",
       "[2008 rows x 12 columns]"
      ]
     },
     "execution_count": 126,
     "metadata": {},
     "output_type": "execute_result"
    }
   ],
   "source": [
    "show_sub = orgdata['縣市名稱']=='30 臺北市'\n",
    "subdata = orgdata[show_sub]\n",
    "subdata"
   ]
  },
  {
   "cell_type": "code",
   "execution_count": 127,
   "id": "ce732808",
   "metadata": {},
   "outputs": [
    {
     "data": {
      "text/plain": [
       "pandas.core.series.Series"
      ]
     },
     "execution_count": 127,
     "metadata": {},
     "output_type": "execute_result"
    }
   ],
   "source": [
    "type(subdata['seg'])"
   ]
  },
  {
   "cell_type": "code",
   "execution_count": 128,
   "id": "80c516a6",
   "metadata": {},
   "outputs": [
    {
     "data": {
      "text/plain": [
       "list"
      ]
     },
     "execution_count": 128,
     "metadata": {},
     "output_type": "execute_result"
    }
   ],
   "source": [
    "subdata_seg_list = subdata['seg'].tolist()\n",
    "type(subdata_seg_list)"
   ]
  },
  {
   "cell_type": "code",
   "execution_count": 129,
   "id": "ab332059",
   "metadata": {},
   "outputs": [
    {
     "data": {
      "text/plain": [
       "[['教育'],\n",
       " ['教育'],\n",
       " ['教育'],\n",
       " ['行政', '教育', '政策'],\n",
       " ['行政'],\n",
       " ['幼兒', '教育'],\n",
       " ['學院', '教育'],\n",
       " ['宗教'],\n",
       " ['宗教'],\n",
       " ['歷史'],\n",
       " ['歷史'],\n",
       " ['歷史'],\n",
       " ['台灣史'],\n",
       " ['台灣史'],\n",
       " ['民族'],\n",
       " ['民族'],\n",
       " ['民族'],\n",
       " ['哲學系'],\n",
       " ['哲學系'],\n",
       " ['哲學系'],\n",
       " ['英國語', '文學系'],\n",
       " ['英國語', '文學系'],\n",
       " ['英國語', '文學系', '英語', '教學'],\n",
       " ['英國語', '文學系'],\n",
       " ['語文學系', '日本'],\n",
       " ['語文學系', '日本'],\n",
       " ['語文學系', '阿拉伯'],\n",
       " ['韓國語', '文學系'],\n",
       " ['韓國語', '文學系'],\n",
       " ['語文學系', '土耳其'],\n",
       " ['歐洲語', '文學系'],\n",
       " ['語文學系', '斯拉夫'],\n",
       " ['語文學系', '斯拉夫'],\n",
       " ['東南亞', '語言', '學士', '文化'],\n",
       " ['台灣', '文學'],\n",
       " ['台灣', '文學'],\n",
       " ['中國', '文學系'],\n",
       " ['中國', '文學系'],\n",
       " ['中國', '文學系國', '學碩士', '文教'],\n",
       " ['中國', '文學系'],\n",
       " ['華語', '文教', '博士'],\n",
       " ['華語', '學碩士', '文教'],\n",
       " ['語言學'],\n",
       " ['語言學'],\n",
       " ['外國語', '文學院'],\n",
       " ['經濟'],\n",
       " ['經濟'],\n",
       " ['經濟'],\n",
       " ['經濟', '社會', '英語'],\n",
       " ['政治'],\n",
       " ['政治'],\n",
       " ['政治'],\n",
       " ['國際', '事務學院', '大陸'],\n",
       " ['外交'],\n",
       " ['外交'],\n",
       " ['戰略', '國際', '事務碩士', '外交'],\n",
       " ['外交'],\n",
       " ['國際', '英語'],\n",
       " ['國際', '事務學院'],\n",
       " ['心理'],\n",
       " ['心理'],\n",
       " ['心理'],\n",
       " ['輔導'],\n",
       " ['社會'],\n",
       " ['社會'],\n",
       " ['社會'],\n",
       " ['中東', '中亞'],\n",
       " ['東亞'],\n",
       " ['東亞'],\n",
       " ['博士', '日本'],\n",
       " ['日本'],\n",
       " ['俄羅斯'],\n",
       " ['亞太', '英語', '博士'],\n",
       " ['亞太', '英語'],\n",
       " ['地政學系'],\n",
       " ['地政學系'],\n",
       " ['地政學系'],\n",
       " ['地政學系'],\n",
       " ['原住民', '環境', '規劃', '土地', '政策'],\n",
       " [],\n",
       " [],\n",
       " ['勞工'],\n",
       " ['傳播', '學院'],\n",
       " ['國際', '傳播', '英語'],\n",
       " ['傳播', '學院'],\n",
       " ['傳播', '學院'],\n",
       " ['傳播', '學院'],\n",
       " ['廣播', '電視'],\n",
       " ['新聞'],\n",
       " ['圖書', '資訊'],\n",
       " ['圖書', '資訊'],\n",
       " ['圖書', '資訊', '資訊學', '數位'],\n",
       " ['傳播', '學院'],\n",
       " ['會計'],\n",
       " ['會計'],\n",
       " ['會計'],\n",
       " ['財務', '管理'],\n",
       " ['財務', '管理'],\n",
       " ['財務', '管理'],\n",
       " ['金融'],\n",
       " ['金融'],\n",
       " ['金融'],\n",
       " ['財政學系'],\n",
       " ['財政學系'],\n",
       " ['財政學系'],\n",
       " ['風險', '保險', '管理'],\n",
       " ['風險', '保險', '管理'],\n",
       " ['風險', '保險', '管理'],\n",
       " ['企業', '管理'],\n",
       " ['企業', 'MBA', '管理'],\n",
       " ['企業', '管理'],\n",
       " ['經營', '華商班', '管理'],\n",
       " ['國際', '經營', '英語', '管理'],\n",
       " ['創新國際', '學院'],\n",
       " ['公共行政'],\n",
       " ['公共行政'],\n",
       " ['公共行政'],\n",
       " ['行政', '管理'],\n",
       " ['國際', '經營', '貿易'],\n",
       " ['國際', '經營', '貿易'],\n",
       " ['國際', '經營', '貿易'],\n",
       " ['廣告'],\n",
       " ['財產', '智慧', '科技', '管理'],\n",
       " ['財產', '智慧', '科技', '管理'],\n",
       " ['商學院'],\n",
       " ['法律'],\n",
       " ['科際', '整合', '法律'],\n",
       " ['法學院'],\n",
       " ['法律'],\n",
       " ['法律'],\n",
       " ['法學院'],\n",
       " ['神經', '科學'],\n",
       " ['物理'],\n",
       " ['電子', '學士', '物理'],\n",
       " ['數學系'],\n",
       " ['數學系'],\n",
       " ['數學系'],\n",
       " ['統計'],\n",
       " ['統計'],\n",
       " ['統計'],\n",
       " ['資訊', '管理'],\n",
       " ['資訊', '管理'],\n",
       " ['資訊', '管理'],\n",
       " ['資訊', '科學系'],\n",
       " ['資訊', '科學系'],\n",
       " ['資訊', '科學系'],\n",
       " ['資訊', '科學系'],\n",
       " ['網路', '人智計', '算國際', '社群', '博士'],\n",
       " ['數位', '內容'],\n",
       " ['社會', '工作'],\n",
       " ['社會', '工作'],\n",
       " ['計算機'],\n",
       " ['軍訓', '教官'],\n",
       " ['師資'],\n",
       " [],\n",
       " ['語言'],\n",
       " ['助教', '行政', '其他', '包括'],\n",
       " ['華語', '教學'],\n",
       " ['音樂學'],\n",
       " ['音樂學'],\n",
       " ['戲劇'],\n",
       " ['戲劇'],\n",
       " ['戲劇'],\n",
       " ['藝術史'],\n",
       " ['藝術史'],\n",
       " ['歷史'],\n",
       " ['歷史'],\n",
       " ['歷史'],\n",
       " ['人類'],\n",
       " ['人類'],\n",
       " ['人類'],\n",
       " ['哲學系'],\n",
       " ['哲學系'],\n",
       " ['哲學系'],\n",
       " ['外國語', '文學系'],\n",
       " ['外國語', '文學系'],\n",
       " ['外國語', '文學系'],\n",
       " ['語文學系', '日本'],\n",
       " ['語文學系', '日本'],\n",
       " ['翻譯'],\n",
       " ['灣文學'],\n",
       " ['灣文學'],\n",
       " ['中國', '文學系'],\n",
       " ['中國', '文學系'],\n",
       " ['中國', '文學系'],\n",
       " ['語言學'],\n",
       " ['語言學'],\n",
       " ['經濟'],\n",
       " ['經濟'],\n",
       " ['經濟'],\n",
       " ['經濟'],\n",
       " ['政治'],\n",
       " ['政治'],\n",
       " ['政治'],\n",
       " ['政治'],\n",
       " ['心理'],\n",
       " ['心理'],\n",
       " ['心理'],\n",
       " ['社會'],\n",
       " ['社會'],\n",
       " ['社會'],\n",
       " ['環境', '地理'],\n",
       " ['環境', '地理'],\n",
       " ['環境', '地理'],\n",
       " [],\n",
       " [],\n",
       " [],\n",
       " ['新聞'],\n",
       " ['圖書', '資訊學系'],\n",
       " ['圖書', '資訊學系'],\n",
       " ['圖書', '資訊學系'],\n",
       " ['會計'],\n",
       " ['會計'],\n",
       " ['會計'],\n",
       " ['財務', '金融'],\n",
       " ['財務', '金融'],\n",
       " ['財務', '金融'],\n",
       " ['商學'],\n",
       " ['商學'],\n",
       " ['學院', '企業', '管理'],\n",
       " ['工商管理'],\n",
       " ['事業', '經營', '職學位'],\n",
       " ['國際', '企業'],\n",
       " ['國際', '企業'],\n",
       " ['國際', '企業'],\n",
       " ['事務', '公共'],\n",
       " ['EMBA', '境外'],\n",
       " ['學院', '管理'],\n",
       " ['學院', '創業', '管理'],\n",
       " ['法律'],\n",
       " ['法律'],\n",
       " ['法律'],\n",
       " ['科際', '整合', '法律'],\n",
       " ['事業', '經營', '法務碩士', '職學位'],\n",
       " ['科學系', '生命'],\n",
       " ['科學系', '生命'],\n",
       " ['科學系', '生命'],\n",
       " ['科學', '植物'],\n",
       " ['科學', '植物'],\n",
       " ['昆蟲'],\n",
       " ['昆蟲'],\n",
       " ['昆蟲'],\n",
       " ['生物科技'],\n",
       " ['生物科技'],\n",
       " ['科學', '生化'],\n",
       " ['科學', '生化'],\n",
       " ['細胞', '分子', '生物'],\n",
       " ['細胞', '分子', '生物'],\n",
       " ['體與', '系統', '學學位', '基因', '生物'],\n",
       " ['體與', '系統', '學學位', '基因', '生物'],\n",
       " ['生化', '科技'],\n",
       " ['生化', '科技'],\n",
       " ['生化', '科技'],\n",
       " ['職學位', '生物科技', '管理'],\n",
       " ['分子生物', '化學', '生物'],\n",
       " ['分子生物', '化學', '生物'],\n",
       " ['資訊', '學國際', '博士', '生物'],\n",
       " ['領域', '神經', '科學國際', '博士'],\n",
       " ['多樣', '性國際', '生物'],\n",
       " ['生態學', '演化', '生物'],\n",
       " ['生態學', '演化', '生物'],\n",
       " ['化學系'],\n",
       " ['化學系'],\n",
       " ['化學系'],\n",
       " ['地質', '科學系'],\n",
       " ['地質', '科學系'],\n",
       " ['地質', '科學系'],\n",
       " ['氣候', '永續', '國際', '博士'],\n",
       " ['氣候', '永續', '國際'],\n",
       " ['系統', '科學國際', '博士', '地球'],\n",
       " ['大氣', '科學系'],\n",
       " ['大氣', '科學系'],\n",
       " ['大氣', '科學系'],\n",
       " ['海洋'],\n",
       " ['海洋'],\n",
       " ['物理'],\n",
       " ['物理'],\n",
       " ['物理'],\n",
       " ['物理'],\n",
       " ['物理'],\n",
       " ['天文', '物理'],\n",
       " ['天文', '物理'],\n",
       " ['數學系'],\n",
       " ['數學系'],\n",
       " ['數學系'],\n",
       " ['統計'],\n",
       " ['數學', '科學'],\n",
       " ['資訊', '管理'],\n",
       " ['資訊', '管理'],\n",
       " ['資訊', '管理'],\n",
       " ['資訊', '網路', '媒體'],\n",
       " ['資訊', '網路', '媒體'],\n",
       " ['資訊', '工程'],\n",
       " ['資訊', '工程'],\n",
       " ['資訊', '工程'],\n",
       " ['資訊', '工程'],\n",
       " ['生醫電子', '資訊學'],\n",
       " ['生醫電子', '資訊學'],\n",
       " ['資料', '科學', '博士'],\n",
       " ['資料', '科學'],\n",
       " ['化學', '工程'],\n",
       " ['化學', '工程'],\n",
       " ['化學', '工程'],\n",
       " ['科學', '高分子', '工程'],\n",
       " ['科學', '高分子', '工程'],\n",
       " ['永續', '化學', '國際', '博士', '科技'],\n",
       " ['材料科', '學與', '工程'],\n",
       " ['材料科', '學與', '工程'],\n",
       " ['材料科', '學與', '工程'],\n",
       " ['綠色', '永續', '元件', '精密', '博士', '材料'],\n",
       " ['科學', '技術', '國際', '博士', '分子'],\n",
       " ['環境', '工程'],\n",
       " ['環境', '工程'],\n",
       " ['環境', '工程'],\n",
       " ['電機', '工程'],\n",
       " ['電機', '工程'],\n",
       " ['電機', '工程'],\n",
       " ['電子', '工程'],\n",
       " ['電子', '工程'],\n",
       " ['光電', '工程'],\n",
       " ['光電', '工程'],\n",
       " ['電信', '工程'],\n",
       " ['電信', '工程'],\n",
       " ['電信', '工程'],\n",
       " ['機械', '工程'],\n",
       " ['機械', '工程'],\n",
       " ['機械', '工程'],\n",
       " ['科學及', '海洋工程', '工程'],\n",
       " ['科學及', '海洋工程', '工程'],\n",
       " ['科學及', '海洋工程', '工程'],\n",
       " ['機電', '生物', '工程'],\n",
       " ['機電', '生物', '工程'],\n",
       " ['機電', '生物', '工程'],\n",
       " ['工業', '工程'],\n",
       " ['工業', '工程'],\n",
       " ['工業', '工程'],\n",
       " ['醫學', '工程'],\n",
       " ['醫學', '工程'],\n",
       " ['醫學', '工程'],\n",
       " ['用力'],\n",
       " ['用力'],\n",
       " ['食品科技'],\n",
       " ['食品科技'],\n",
       " ['建築', '城鄉'],\n",
       " ['建築', '城鄉'],\n",
       " ['土木工程'],\n",
       " ['土木工程'],\n",
       " ['土木工程'],\n",
       " ['土木工程'],\n",
       " ['環境', '系統', '生物', '工程'],\n",
       " ['環境', '系統', '生物', '工程'],\n",
       " ['環境', '系統', '生物', '工程'],\n",
       " ['農藝學系'],\n",
       " ['農藝學系'],\n",
       " ['農藝學系'],\n",
       " ['動物', '科學', '技術'],\n",
       " ['動物', '科學', '技術'],\n",
       " ['動物', '科學', '技術'],\n",
       " ['園藝', '景觀'],\n",
       " ['園藝', '景觀'],\n",
       " ['園藝', '景觀'],\n",
       " ['農業化'],\n",
       " ['農業化'],\n",
       " ['農業化'],\n",
       " ['農業', '體科學', '基因', '科技'],\n",
       " ['農業', '經濟'],\n",
       " ['農業', '經濟'],\n",
       " ['農業', '經濟'],\n",
       " ['農業', '經濟'],\n",
       " ['產業', '傳播', '生物'],\n",
       " ['產業', '傳播', '生物'],\n",
       " ['產業', '傳播', '生物'],\n",
       " ['產業', '傳播', '生物'],\n",
       " ['植物病理', '微生物'],\n",
       " ['植物病理', '微生物'],\n",
       " ['植物病理', '微生物'],\n",
       " ['醫學', '植物'],\n",
       " ['環境', '森林'],\n",
       " ['環境', '森林'],\n",
       " ['環境', '森林'],\n",
       " ['漁業', '科學'],\n",
       " ['漁業', '科學'],\n",
       " ['醫學系'],\n",
       " ['醫學系'],\n",
       " ['醫學系'],\n",
       " ['臨床', '動物', '醫學'],\n",
       " ['病理', '分子', '生物'],\n",
       " ['醫學系'],\n",
       " ['臨床', '醫學'],\n",
       " ['臨床', '醫學'],\n",
       " ['臨床', '醫學'],\n",
       " ['科學', '口腔', '生物'],\n",
       " ['科學', '口腔', '生物'],\n",
       " ['微生物'],\n",
       " ['微生物'],\n",
       " ['醫學系'],\n",
       " ['臨床', '醫學'],\n",
       " ['臨床', '醫學'],\n",
       " ['醫學', '分子'],\n",
       " ['醫學', '分子'],\n",
       " ['醫學', '分子'],\n",
       " ['免疫'],\n",
       " ['免疫'],\n",
       " ['生理'],\n",
       " ['生理'],\n",
       " ['病理'],\n",
       " ['病理'],\n",
       " ['學暨', '細胞', '解剖', '生物'],\n",
       " ['學暨', '細胞', '解剖', '生物'],\n",
       " ['腫瘤', '醫學'],\n",
       " ['轉譯', '醫學', '博士'],\n",
       " ['體暨', '體醫學', '蛋白', '基因'],\n",
       " ['體暨', '體醫學', '蛋白', '基因'],\n",
       " ['醫學', '暨生', '醫倫理', '教育'],\n",
       " ['藥理學'],\n",
       " ['藥理學'],\n",
       " ['法醫學'],\n",
       " ['腦與', '科學', '心智'],\n",
       " ['護理'],\n",
       " ['護理'],\n",
       " ['學士後護', '理學系'],\n",
       " ['醫學', '檢驗', '技術', '生物'],\n",
       " ['醫學', '檢驗', '技術', '生物'],\n",
       " ['醫學', '檢驗', '技術', '生物'],\n",
       " ['醫療', '醫學', '影像', '器材'],\n",
       " ['治療', '物理'],\n",
       " ['治療', '物理'],\n",
       " ['治療', '物理'],\n",
       " ['職能', '治療'],\n",
       " ['職能', '治療'],\n",
       " ['職能', '治療'],\n",
       " ['藥學系'],\n",
       " ['藥學系'],\n",
       " ['藥學系'],\n",
       " ['臨床', '藥學'],\n",
       " ['臨床', '藥學'],\n",
       " ['衛生', '公共'],\n",
       " ['衛生', '公共'],\n",
       " ['學與', '預防', '醫學', '流行病'],\n",
       " ['學與', '預防', '醫學', '流行病'],\n",
       " ['學與', '預防', '醫學', '流行病'],\n",
       " ['健康', '管理', '政策'],\n",
       " ['健康', '管理', '政策'],\n",
       " ['健康', '管理', '政策'],\n",
       " ['行為', '社區', '科學', '健康'],\n",
       " ['食品安全', '健康'],\n",
       " ['環境', '職業', '科學', '健康'],\n",
       " ['環境', '職業', '科學', '健康'],\n",
       " ['衛生', '博士'],\n",
       " ['衛生'],\n",
       " ['毒理'],\n",
       " ['毒理'],\n",
       " ['國際', '農業', '生技', '醫療', '三校', '健康'],\n",
       " ['社會', '工作'],\n",
       " ['社會', '工作'],\n",
       " ['社會', '工作'],\n",
       " ['運動', '設施', '健康', '管理'],\n",
       " ['通識', '科目'],\n",
       " ['助教', '行政', '其他', '包括'],\n",
       " ['教育'],\n",
       " ['教育'],\n",
       " ['國防', '教育'],\n",
       " ['教育'],\n",
       " ['特殊教育'],\n",
       " ['特殊教育'],\n",
       " ['特殊教育'],\n",
       " ['特殊教育'],\n",
       " ['行政', '教育', '政策'],\n",
       " ['課程', '教學'],\n",
       " ['課程', '教學'],\n",
       " ['科學', '教育'],\n",
       " ['科學', '教育'],\n",
       " ['資訊', '教育'],\n",
       " ['資訊', '教育'],\n",
       " ['學習', '科學學士'],\n",
       " ['工業', '教育'],\n",
       " ['學士後學位', '教保員'],\n",
       " ['活動', '領導', '公民', '教育'],\n",
       " ['活動', '領導', '公民', '教育'],\n",
       " ['公民', '活動', '領導', '社會', '教學', '教育'],\n",
       " ['活動', '領導', '公民', '教育'],\n",
       " ['社會', '教育'],\n",
       " ['社會', '教育'],\n",
       " ['社會', '教育', '行政', '文化'],\n",
       " ['社會', '教育'],\n",
       " ['衛生', '健康', '教育'],\n",
       " ['衛生', '健康', '教育'],\n",
       " ['人類', '家庭'],\n",
       " ['人類', '家庭'],\n",
       " ['人類', '幼兒', '家庭', '教育'],\n",
       " ['人類', '家庭'],\n",
       " ['工業', '教育'],\n",
       " ['工業', '技職', '教師', '教育', '行政'],\n",
       " ['工業', '教育'],\n",
       " ['環境', '教育'],\n",
       " ['環境', '教育'],\n",
       " ['體育'],\n",
       " ['體育'],\n",
       " ['體育'],\n",
       " ['體育'],\n",
       " ['衛生', '健康', '教育'],\n",
       " ['衛生', '健康', '教育'],\n",
       " ['體育', '運動', '科學系'],\n",
       " ['體育', '運動', '科學系'],\n",
       " ['體育', '運動', '科學系', '適應', '教學', '特殊'],\n",
       " ['體育', '運動', '科學系'],\n",
       " ['學院', '創造力', '教育'],\n",
       " ['學院', '教育'],\n",
       " ['人力', '科技'],\n",
       " ['人力', '科技'],\n",
       " ['人力', '科技'],\n",
       " ['人力', '科技'],\n",
       " ['設計'],\n",
       " ['設計'],\n",
       " ['設計', '教學'],\n",
       " ['設計'],\n",
       " ['美術'],\n",
       " ['美術'],\n",
       " ['美術', '教學'],\n",
       " ['美術'],\n",
       " ['音樂學系'],\n",
       " ['音樂學系'],\n",
       " ['音樂學系'],\n",
       " ['音樂學系'],\n",
       " ['音樂', '民族'],\n",
       " ['藝術', '表演'],\n",
       " ['藝術', '學士', '表演'],\n",
       " ['藝術史'],\n",
       " ['歷史'],\n",
       " ['歷史'],\n",
       " ['歷史', '教學'],\n",
       " ['歷史'],\n",
       " ['灣史'],\n",
       " ['歐洲', '觀光', '文化'],\n",
       " ['文學院'],\n",
       " ['英語'],\n",
       " ['英語'],\n",
       " ['英語', '教學'],\n",
       " ['英語'],\n",
       " ['翻譯'],\n",
       " ['翻譯'],\n",
       " ['翻譯', '軍事口譯', '所碩士', '現役', '軍人', '營區'],\n",
       " ['華語', '文教'],\n",
       " ['華語', '文教'],\n",
       " ['華語', '師資', '數位', '文教', '海外'],\n",
       " ['華語', '文教'],\n",
       " ['灣語', '文學系'],\n",
       " ['灣語', '文學系'],\n",
       " ['灣語', '文學系'],\n",
       " ['國文學系'],\n",
       " ['國文學系'],\n",
       " ['國文學系'],\n",
       " ['國文學系'],\n",
       " ['政治'],\n",
       " ['政治'],\n",
       " ['輔導', '心理', '教育'],\n",
       " ['輔導', '心理', '教育'],\n",
       " ['輔導', '心理', '教育'],\n",
       " ['輔導', '心理', '教育'],\n",
       " ['地理'],\n",
       " ['地理'],\n",
       " ['地理', '教學'],\n",
       " ['地理'],\n",
       " ['東亞學系'],\n",
       " ['東亞學系'],\n",
       " ['東亞學系'],\n",
       " ['健諮商'],\n",
       " ['大眾', '傳播'],\n",
       " ['圖文', '傳播'],\n",
       " ['圖文', '傳播'],\n",
       " ['圖文', '傳播'],\n",
       " ['圖書', '資訊學'],\n",
       " ['圖書', '資訊學'],\n",
       " ['圖書', '資訊學'],\n",
       " ['經營', '策略'],\n",
       " ['企業', '管理'],\n",
       " ['管理'],\n",
       " ['學院', '高階經理', '企業', '管理'],\n",
       " ['運動', '休閒', '學院樂', '活產業', '高階經理', '企業', '管理'],\n",
       " ['國際', '人力'],\n",
       " ['科學系', '生命'],\n",
       " ['科學系', '生命'],\n",
       " ['科學系', '生命'],\n",
       " ['多樣', '性國際', '博士', '生物'],\n",
       " ['生技', '醫藥產業'],\n",
       " ['營養', '科學'],\n",
       " ['營養', '科學學士'],\n",
       " ['化學系'],\n",
       " ['化學系'],\n",
       " ['化學系'],\n",
       " ['科學系', '地球'],\n",
       " ['科學系', '地球'],\n",
       " ['科學系', '地球'],\n",
       " ['物理'],\n",
       " ['物理'],\n",
       " ['物理'],\n",
       " ['數學系'],\n",
       " ['數學系'],\n",
       " ['數學系'],\n",
       " ['數學系', '數學', '教學'],\n",
       " ['資訊', '工程'],\n",
       " ['資訊', '工程'],\n",
       " ['資訊', '工程'],\n",
       " ['環境', '海洋', '科技'],\n",
       " ['電機', '工程'],\n",
       " ['電機', '工程'],\n",
       " ['電機', '工程'],\n",
       " ['光電', '工程'],\n",
       " ['光電', '工程'],\n",
       " ['光電', '學士', '工程'],\n",
       " ['機電', '工程'],\n",
       " ['機電', '工程'],\n",
       " ['機電', '工程'],\n",
       " ['車輛', '學士', '能源', '工程'],\n",
       " ['社會', '工作'],\n",
       " ['運動', '競技學系'],\n",
       " ['運動', '競技學系'],\n",
       " ['運動', '休閒', '餐旅', '管理'],\n",
       " ['運動', '休閒', '餐旅', '管理'],\n",
       " ['運動', '休閒', '餐旅', '管理'],\n",
       " ['學院', '國際時', '尚高階', '管理'],\n",
       " ['師資', '學院'],\n",
       " [],\n",
       " ['助教', '行政', '其他', '包括'],\n",
       " ['數位', '學習', '教育'],\n",
       " ['數位', '學習', '教育'],\n",
       " ['數位', '學習', '教育'],\n",
       " ['設計系'],\n",
       " ['設計系'],\n",
       " ['設計系'],\n",
       " ['設計系'],\n",
       " ['創意', '設計'],\n",
       " ['社會', '學院', '人文'],\n",
       " ['外語', '系碩士'],\n",
       " ['外語', '系碩士'],\n",
       " ['語系'],\n",
       " ['語系'],\n",
       " ['財務', '金融'],\n",
       " ['財務', '金融'],\n",
       " ['財務', '金融'],\n",
       " ['管理系', '企業'],\n",
       " ['管理系', '企業'],\n",
       " ['管理系', '企業'],\n",
       " ['管理系', '企業'],\n",
       " ['管理系', '企業'],\n",
       " ['管理'],\n",
       " ['管理'],\n",
       " ['管理'],\n",
       " ['科技', '管理'],\n",
       " ['學院', 'MBA', '管理'],\n",
       " ['專利'],\n",
       " ['專利'],\n",
       " ['科技'],\n",
       " ['科技'],\n",
       " ['管理系', '資訊'],\n",
       " ['管理系', '資訊'],\n",
       " ['管理系', '資訊'],\n",
       " ['管理系', '資訊'],\n",
       " ['管理系', '資訊'],\n",
       " ['資訊', '工程系'],\n",
       " ['資訊', '工程系'],\n",
       " ['資訊', '工程系'],\n",
       " ['資訊', '工程系'],\n",
       " ['化學', '工程系'],\n",
       " ['化學', '工程系'],\n",
       " ['化學', '工程系'],\n",
       " ['材料科', '學與', '工程系'],\n",
       " ['材料科', '學與', '工程系'],\n",
       " ['材料科', '學與', '工程系'],\n",
       " ['電機', '工程系'],\n",
       " ['電機', '工程系'],\n",
       " ['電機', '工程系'],\n",
       " ['電機', '工程系'],\n",
       " ['電子', '工程系'],\n",
       " ['電子', '工程系'],\n",
       " ['電子', '工程系'],\n",
       " ['電子', '工程系'],\n",
       " ['電子', '工程系'],\n",
       " ['光電', '工程'],\n",
       " ['光電', '工程'],\n",
       " ['電資學士'],\n",
       " ['照明', '色彩', '科技'],\n",
       " ['機械', '工程系'],\n",
       " ['機械', '工程系'],\n",
       " ['機械', '工程系'],\n",
       " ['機械', '工程系'],\n",
       " ['機械', '工程系'],\n",
       " ['自動化', '控制'],\n",
       " ['自動化', '控制'],\n",
       " ['自動化', '控制'],\n",
       " ['管理系', '工業'],\n",
       " ['管理系', '工業'],\n",
       " ['管理系', '工業'],\n",
       " ['管理系', '工業'],\n",
       " ['管理系', '工業'],\n",
       " ['先進', '全英語', '學士', '科技'],\n",
       " ['學士', '工程'],\n",
       " ['工程'],\n",
       " ['高階', '研發', '職學位', '科技'],\n",
       " ['電資學院'],\n",
       " ['建築系'],\n",
       " ['建築系'],\n",
       " ['建築系'],\n",
       " ['建築系'],\n",
       " ['建築系'],\n",
       " ['營建', '工程系'],\n",
       " ['營建', '工程系'],\n",
       " ['營建', '工程系'],\n",
       " ['營建', '工程系'],\n",
       " ['醫學', '工程'],\n",
       " ['學士', '科技'],\n",
       " [],\n",
       " ['通識', '科目'],\n",
       " ['軍訓', '教官'],\n",
       " ['師資'],\n",
       " [],\n",
       " ['語言'],\n",
       " ['助教', '行政', '其他', '包括'],\n",
       " ['技術', '職業', '教育'],\n",
       " ['技術', '職業', '教育'],\n",
       " ['技術', '職業', '教育'],\n",
       " ['互動', '設計系'],\n",
       " ['互動', '設計系'],\n",
       " ['互動', '設計系'],\n",
       " ['互動', '設計系'],\n",
       " ['設計', '學院'],\n",
       " ['創意', '設計'],\n",
       " ['工業', '設計系', '設計'],\n",
       " ['工業', '設計系', '創新設', '計碩士'],\n",
       " ['工業', '設計系'],\n",
       " ['工業', '設計系', '產學訓', '木工', '家具'],\n",
       " ['工業', '設計系'],\n",
       " ['事業', '系碩士', '文化'],\n",
       " ['事業', '發展系', '文化'],\n",
       " ['英文系'],\n",
       " ['英文系'],\n",
       " ['英文系'],\n",
       " ['英語'],\n",
       " ['管理系', '經營'],\n",
       " ['管理系', '經營'],\n",
       " ['管理系', '經營'],\n",
       " ['管理系', '經營'],\n",
       " ['管理系', '經營'],\n",
       " ['學院', '管理'],\n",
       " ['高階', '雙聯學位', '管理'],\n",
       " ['學院', '外國學生', 'IMBA', '管理'],\n",
       " ['學院', '蘇州', '大學', 'EMBA', '管理'],\n",
       " ['財產權', '智慧'],\n",
       " ['財產權', '智慧'],\n",
       " ['管理系', '資訊', '財金'],\n",
       " ['學院', '資訊', '財金', 'EMBA', '管理'],\n",
       " ['管理系', '資訊', '財金'],\n",
       " ['管理系', '資訊', '財金'],\n",
       " ['管理系', '資訊', '財金'],\n",
       " ['資訊', '工程系'],\n",
       " ['資訊', '工程系'],\n",
       " ['資訊', '工程系'],\n",
       " ['資訊', '工程系'],\n",
       " ['人工智慧', '大數據', '高階', '雙聯碩士', '管理'],\n",
       " ['化學', '科技系', '生物', '工程'],\n",
       " ['化學', '科技系', '工程', '生物'],\n",
       " ['化學', '科技系', '工程', '生物'],\n",
       " ['化學', '科技系', '生物', '工程'],\n",
       " ['化學', '科技系', '生物', '工程'],\n",
       " ['科學', '有機', '工程系', '高分子', '分子'],\n",
       " ['科學', '有機', '工程系', '高分子', '分子'],\n",
       " ['科學', '有機', '工程系', '高分子', '分子'],\n",
       " ['科學', '工程系', '分子'],\n",
       " ['材料科', '學與', '工程'],\n",
       " ['材料科', '學與', '工程'],\n",
       " ['材料科', '學與', '工程'],\n",
       " ['工程系', '材料'],\n",
       " ['工程'],\n",
       " ['工程'],\n",
       " ['工程'],\n",
       " ['學院', '光電', '外國學生', '能源', '材料', '工程'],\n",
       " ['環境', '工程', '管理'],\n",
       " ['環境', '工程', '管理'],\n",
       " ['環境', '工程', '管理'],\n",
       " ['冷凍', '空調', '工程系', '能源'],\n",
       " ['冷凍', '空調', '工程系', '能源'],\n",
       " ['冷凍', '空調', '工程系', '能源'],\n",
       " ['冷凍', '空調', '工程系', '能源'],\n",
       " ['冷凍', '空調', '產學訓', '工程系', '能源'],\n",
       " ['電機', '工程系'],\n",
       " ['電機', '工程系'],\n",
       " ['電機', '工程系'],\n",
       " ['電機', '工程系'],\n",
       " ['電機', '工程系'],\n",
       " ['電機', '工程系'],\n",
       " ['電子', '工程系'],\n",
       " ['電子', '工程系'],\n",
       " ['電子', '工程系'],\n",
       " ['電子', '工程系'],\n",
       " ['電子', '工程系'],\n",
       " ['電子', '工程系'],\n",
       " ['光電', '工程系'],\n",
       " ['光電', '工程系'],\n",
       " ['光電', '工程系'],\n",
       " ['電資學士'],\n",
       " ['電資學院'],\n",
       " ['電資學院'],\n",
       " ['電資學院'],\n",
       " ['自動化', '科技'],\n",
       " ['自動化', '科技'],\n",
       " ['機械', '機電', '工程系', '整合'],\n",
       " ['機械', '機電', '工程系', '整合'],\n",
       " ['機械', '工程系'],\n",
       " ['機械', '產學訓', '工程系'],\n",
       " ['機械', '工程系'],\n",
       " ['機械', '工程系'],\n",
       " ['機電學院', '機械', '自動化', '外國學生'],\n",
       " ['機電學士'],\n",
       " ['機電學院', '機電', '科技'],\n",
       " ['科技'],\n",
       " ['科技'],\n",
       " ['科技'],\n",
       " ['自動化', '智慧', '工程'],\n",
       " ['車輛', '工程系'],\n",
       " ['車輛', '工程系'],\n",
       " ['車輛', '工程系'],\n",
       " ['車輛', '產學訓', '工程系'],\n",
       " ['管理系', '工業', '工程'],\n",
       " ['管理系', '工業', '工程'],\n",
       " ['學院', '工業', 'EMBA', '東莞', '管理', '境外', '工程'],\n",
       " ['管理系', '工業', '工程'],\n",
       " ['管理系', '工業', '工程'],\n",
       " ['學院', '工業', 'EMBA', '管理', '科技'],\n",
       " ['科技', '工程'],\n",
       " ['建築系', '建築', '設計', '都市'],\n",
       " ['建築系', '建築', '設計', '都市'],\n",
       " ['建築系'],\n",
       " ['建築系'],\n",
       " ['防災', '土木工程', '土木'],\n",
       " ['防災', '土木工程', '土木'],\n",
       " ['防災', '土木工程', '土木'],\n",
       " ['土木工程'],\n",
       " ['土木工程'],\n",
       " ['土木工程'],\n",
       " ['高階', '營建', '雙聯碩士', '土木', '工程', '管理'],\n",
       " ['通識', '科目'],\n",
       " ['軍訓', '教官'],\n",
       " ['師資'],\n",
       " [],\n",
       " ['助教', '行政', '其他', '包括'],\n",
       " ['電影', '創作'],\n",
       " ['電影', '創作'],\n",
       " ['動畫'],\n",
       " ['美術'],\n",
       " ['美術'],\n",
       " ['美術'],\n",
       " ['美術'],\n",
       " ['藝術', '跨域'],\n",
       " ['音樂學系'],\n",
       " ['音樂學系'],\n",
       " ['音樂學系'],\n",
       " ['音樂學系'],\n",
       " ['傳統', '音樂學系'],\n",
       " ['傳統', '音樂學系'],\n",
       " ['管絃', '擊樂'],\n",
       " ['音樂', '跨域', '學士', '影像'],\n",
       " ['學士', '跨藝合', '創音', '樂學士'],\n",
       " ['戲劇'],\n",
       " ['戲劇'],\n",
       " ['戲劇'],\n",
       " ['戲劇'],\n",
       " ['劇場', '藝術', '創作'],\n",
       " ['劇場', '設計'],\n",
       " ['劇場', '設計'],\n",
       " ['舞蹈'],\n",
       " ['舞蹈'],\n",
       " ['舞蹈'],\n",
       " ['舞蹈'],\n",
       " ['藝術', '人文', '教育'],\n",
       " ['藝術', '人文', '教育'],\n",
       " ['學院', '資產', '藝術', '文化'],\n",
       " ['新媒體', '藝術'],\n",
       " ['新媒體', '藝術'],\n",
       " ['博物'],\n",
       " ['藝術', '行政', '管理'],\n",
       " ['文創', '產業', '國際', '藝術'],\n",
       " ['文學', '跨域', '創作'],\n",
       " ['建築', '資產', '文化'],\n",
       " ['通識', '科目'],\n",
       " ['計算機'],\n",
       " ['師資'],\n",
       " [],\n",
       " ['助教', '行政', '其他', '包括'],\n",
       " ['教育', '生命'],\n",
       " ['教學', '夜間', '教育', '生命'],\n",
       " ['特殊教育'],\n",
       " ['特殊教育'],\n",
       " ['特殊教育'],\n",
       " ['經營', '教育', '管理', '政策'],\n",
       " ['經營', '文教', '教育', '法律', '管理'],\n",
       " ['原住民', '經營', '文教', '教育', '法律', '管理'],\n",
       " ['經營', '教育', '管理'],\n",
       " ['課程', '教學', '傳播', '科技'],\n",
       " ['傳播', '課程', '教學', '科技', '教育'],\n",
       " ['課程', '教學', '傳播', '學習', '科技'],\n",
       " ['學習', '教學國際'],\n",
       " ['幼兒', '家庭教育'],\n",
       " ['幼兒', '家庭教育'],\n",
       " ['幼兒', '家庭教育'],\n",
       " ['教育'],\n",
       " ['資訊', '數學', '人工智慧', '教育'],\n",
       " ['資訊', '數學', '人工智慧', '教育'],\n",
       " ['資訊', '數學', '人工智慧', '教育'],\n",
       " ['體育'],\n",
       " ['體育'],\n",
       " ['體育'],\n",
       " ['自然科', '教育'],\n",
       " ['自然科', '科學', '實作', '探究', '教育'],\n",
       " ['藝術', '設計', '跨域', '造形', '整合'],\n",
       " ['藝術', '設計', '造形'],\n",
       " ['藝術', '設計', '造形'],\n",
       " ['藝術', '設計', '造形'],\n",
       " ['創意', '產業', '經營', '文化'],\n",
       " ['創意', '產業', '經營', '博物', '科技', '文化', '管理'],\n",
       " ['創意', '產業', '經營', '文化'],\n",
       " ['設計', '數位', '遊戲', '玩具', '科技'],\n",
       " ['設計', '數位', '遊戲', '玩具', '科技'],\n",
       " ['數位', '設計', '科技'],\n",
       " ['音樂學系'],\n",
       " ['音樂學系', '音樂', '教學'],\n",
       " ['音樂學系'],\n",
       " ['當代藝術', '評論', '策展', '全英語'],\n",
       " ['文化'],\n",
       " ['文化'],\n",
       " ['英語', '兒童', '教育'],\n",
       " ['英語', '兒童', '教育'],\n",
       " ['兒童', '英語', '教育'],\n",
       " ['語文', '創作'],\n",
       " ['語文', '創作', '學系語', '學碩士', '文教'],\n",
       " ['語文', '創作'],\n",
       " ['商學系', '心理'],\n",
       " ['商學系', '心理'],\n",
       " ['社會', '區域'],\n",
       " ['社會', '區域'],\n",
       " ['社會', '區域', '教學', '夜間', '文化教育', '多元'],\n",
       " ['職學位', '博物', '科技', '管理'],\n",
       " ['東南亞區域', '管理'],\n",
       " ['自然科', '教育'],\n",
       " ['自然科', '教育'],\n",
       " ['資訊', '科學系'],\n",
       " ['資訊', '科學系'],\n",
       " ['資訊', '科學系'],\n",
       " ['通識', '科目'],\n",
       " ['軍訓', '教官'],\n",
       " ['師資'],\n",
       " ['國際', '梭利碩士', '蒙特'],\n",
       " ['醫護', '數位', '學習', '系碩士', '教育'],\n",
       " ['醫護', '數位', '學習系', '教育'],\n",
       " ['健康心理', '商系', '生死'],\n",
       " ['健康心理', '商系', '生死'],\n",
       " ['管理系', '事業', '健康'],\n",
       " ['管理系', '事業', '健康'],\n",
       " ['管理系', '事業', '健康'],\n",
       " ['管理系', '事業', '健康'],\n",
       " ['管理系', '事業', '健康'],\n",
       " ['管理系', '資訊'],\n",
       " ['管理系', '資訊'],\n",
       " ['學院', '健康', '科技'],\n",
       " ['護理系'],\n",
       " ['護理系'],\n",
       " ['護理系'],\n",
       " ['護理系'],\n",
       " ['護理系'],\n",
       " ['護理系'],\n",
       " ['護理助產', '外國學生'],\n",
       " ['護理助', '產及', '婦女', '系護理助', '產碩士', '健康'],\n",
       " ['護理助', '產及', '婦女', '健康'],\n",
       " ['護理助', '產及', '婦女', '健康'],\n",
       " ['語言', '治療', '聽力'],\n",
       " ['語言', '治療', '聽力'],\n",
       " ['語言', '治療', '聽力'],\n",
       " ['學院', '健康', '科技'],\n",
       " ['期照', '護系'],\n",
       " ['期照', '護系'],\n",
       " ['高齡', '照護系', '健康'],\n",
       " ['嬰幼兒', '系碩士', '保育'],\n",
       " ['嬰幼兒', '保育'],\n",
       " ['嬰幼兒', '保育'],\n",
       " ['運動', '系碩士', '保健'],\n",
       " ['運動', '系碩士', '保健'],\n",
       " ['運動', '保健'],\n",
       " ['休閒產業', '促進系', '旅遊', '健康'],\n",
       " ['休閒產業', '系碩士', '健康'],\n",
       " ['休閒產業', '促進系', '健康'],\n",
       " ['通識', '科目'],\n",
       " ['軍訓', '教官'],\n",
       " ['數位', '媒體', '設計系'],\n",
       " ['數位', '媒體', '設計系'],\n",
       " ['數位', '媒體', '設計系'],\n",
       " ['管理系', '商業', '設計'],\n",
       " ['管理系', '商業', '設計'],\n",
       " ['創意', '設計', '經營'],\n",
       " ['創意', '產品', '設計系', '科技'],\n",
       " ['創意', '產品', '設計系', '科技'],\n",
       " ['語系'],\n",
       " ...]"
      ]
     },
     "execution_count": 129,
     "metadata": {},
     "output_type": "execute_result"
    }
   ],
   "source": [
    "subdata_seg_list"
   ]
  },
  {
   "cell_type": "code",
   "execution_count": 130,
   "id": "4d69693c",
   "metadata": {},
   "outputs": [],
   "source": [
    "flat = [x for sublist in subdata_seg_list for x in sublist]\n",
    "diction = Counter(flat)"
   ]
  },
  {
   "cell_type": "code",
   "execution_count": 131,
   "id": "d2f8e6fd",
   "metadata": {},
   "outputs": [
    {
     "data": {
      "text/plain": [
       "dict_keys(['教育', '行政', '政策', '幼兒', '學院', '宗教', '歷史', '台灣史', '民族', '哲學系', '英國語', '文學系', '英語', '教學', '語文學系', '日本', '阿拉伯', '韓國語', '土耳其', '歐洲語', '斯拉夫', '東南亞', '語言', '學士', '文化', '台灣', '文學', '中國', '文學系國', '學碩士', '文教', '華語', '博士', '語言學', '外國語', '文學院', '經濟', '社會', '政治', '國際', '事務學院', '大陸', '外交', '戰略', '事務碩士', '心理', '輔導', '中東', '中亞', '東亞', '俄羅斯', '亞太', '地政學系', '原住民', '環境', '規劃', '土地', '勞工', '傳播', '廣播', '電視', '新聞', '圖書', '資訊', '資訊學', '數位', '會計', '財務', '管理', '金融', '財政學系', '風險', '保險', '企業', 'MBA', '經營', '華商班', '創新國際', '公共行政', '貿易', '廣告', '財產', '智慧', '科技', '商學院', '法律', '科際', '整合', '法學院', '神經', '科學', '物理', '電子', '數學系', '統計', '科學系', '網路', '人智計', '算國際', '社群', '內容', '工作', '計算機', '軍訓', '教官', '師資', '助教', '其他', '包括', '音樂學', '戲劇', '藝術史', '人類', '翻譯', '灣文學', '地理', '資訊學系', '商學', '工商管理', '事業', '職學位', '事務', '公共', 'EMBA', '境外', '創業', '法務碩士', '生命', '植物', '昆蟲', '生物科技', '生化', '細胞', '分子', '生物', '體與', '系統', '學學位', '基因', '分子生物', '化學', '學國際', '領域', '科學國際', '多樣', '性國際', '生態學', '演化', '化學系', '地質', '氣候', '永續', '地球', '大氣', '海洋', '天文', '數學', '媒體', '工程', '生醫電子', '資料', '高分子', '材料科', '學與', '綠色', '元件', '精密', '材料', '技術', '電機', '光電', '電信', '機械', '科學及', '海洋工程', '機電', '工業', '醫學', '用力', '食品科技', '建築', '城鄉', '土木工程', '農藝學系', '動物', '園藝', '景觀', '農業化', '農業', '體科學', '產業', '植物病理', '微生物', '森林', '漁業', '醫學系', '臨床', '病理', '口腔', '免疫', '生理', '學暨', '解剖', '腫瘤', '轉譯', '體暨', '體醫學', '蛋白', '暨生', '醫倫理', '藥理學', '法醫學', '腦與', '心智', '護理', '學士後護', '理學系', '檢驗', '醫療', '影像', '器材', '治療', '職能', '藥學系', '藥學', '衛生', '預防', '流行病', '健康', '行為', '社區', '食品安全', '職業', '毒理', '生技', '三校', '運動', '設施', '通識', '科目', '國防', '特殊教育', '課程', '學習', '科學學士', '學士後學位', '教保員', '活動', '領導', '公民', '家庭', '技職', '教師', '體育', '適應', '特殊', '創造力', '人力', '設計', '美術', '音樂學系', '音樂', '藝術', '表演', '灣史', '歐洲', '觀光', '軍事口譯', '所碩士', '現役', '軍人', '營區', '海外', '灣語', '國文學系', '東亞學系', '健諮商', '大眾', '圖文', '策略', '高階經理', '休閒', '學院樂', '活產業', '醫藥產業', '營養', '車輛', '能源', '競技學系', '餐旅', '國際時', '尚高階', '設計系', '創意', '人文', '外語', '系碩士', '語系', '管理系', '專利', '工程系', '電資學士', '照明', '色彩', '自動化', '控制', '先進', '全英語', '高階', '研發', '電資學院', '建築系', '營建', '互動', '創新設', '計碩士', '產學訓', '木工', '家具', '發展系', '英文系', '雙聯學位', '外國學生', 'IMBA', '蘇州', '大學', '財產權', '財金', '人工智慧', '大數據', '雙聯碩士', '科技系', '有機', '冷凍', '空調', '機電學院', '機電學士', '東莞', '都市', '防災', '土木', '電影', '創作', '動畫', '跨域', '傳統', '管絃', '擊樂', '跨藝合', '創音', '樂學士', '劇場', '舞蹈', '資產', '新媒體', '博物', '文創', '夜間', '教學國際', '家庭教育', '自然科', '實作', '探究', '造形', '遊戲', '玩具', '當代藝術', '評論', '策展', '兒童', '語文', '學系語', '商學系', '區域', '文化教育', '多元', '東南亞區域', '梭利碩士', '蒙特', '醫護', '學習系', '健康心理', '商系', '生死', '護理系', '護理助產', '護理助', '產及', '婦女', '系護理助', '產碩士', '聽力', '期照', '護系', '高齡', '照護系', '嬰幼兒', '保育', '保健', '休閒產業', '促進系', '旅遊', '商業', '產品', '語科', '系會計', '財稅', '資訊系', '資訊科', '科學科', '金融系', '財政稅務系', '財政稅務科', '管理科', '貿易科', '商務系', '財經', '高階國際', '實務', '談判', '決策', '戲曲', '歌仔', '戲學系', '京劇', '客家', '技藝學系', '民俗', '英文', '德國', '人權', '精算', '高階經', '營碩士', '商學進', '修學士', '巨量', '專長', '培力', '分析', '教練', '中國戲', '劇學系', '史學系', '俄國語', '德國語', '法國語', '中國大陸', '地學', '勞動', '科學院', '澳門', '行銷', '品牌', '商務碩士', '商務學士', '時尚', '建構', '經營進', '進修', '學系奈米', '紡織', '機電碩士', '建築及', '公共安全', '計劃', '開發', '自然', '青少年', '福利', '生活', '技擊', '國術', '航空', '招生', '影視進', '學系動', '畫設', '計組', '性別', '匯流', '口語', '出版', '全媒體', '非營利', '創新產業', '智能', '雲端', '物聯產業', '內容產業', '動漫文', '創設', '計學士', '商品', '日語', '學學系', '工商', '防治', '犯罪', '兩岸', '事務學系', '商務', '泰國', '科學學系', '電腦', '通訊', '建築學系', '防災學系', '遊憩', '傳達設', '計學系', '電腦動', '畫學士', '模擬', '時尚設', '服裝設', '服飾', '溝通', '日文', '中文', '稅務學系', '金融管理', '生技學系', '食品', '通訊學系', '建築設', '服務事業', '餐飲', '學系餐', '飲產業', '服務', '國際學院', '意識', '腦科學', '醫務', '國際生', '技醫療', '數據', '學士後大數', '生醫', '組織', '奈米', '生醫光', '牙體', '實證', '再生', '醫學國際', '醫學院', '生藥學', '藥物', '癌症', '體學', '質體', '中草藥', '新藥', '研發產業', '傷害', '失能', '健碩士', '胸腔', '呼吸', '代謝', '肥胖', '護碩士', '視覺', '傳達', '室內', '設計科', '音效', '學士後數位', '娛樂設', '計系', '影視', '英語系', '會計系', '流通', '商務科', '防災系', '多媒體', '理財', '稅務', '財富', '規劃系', '貿易系', '不動產', '投資', '連鎖', '加盟', '媒體系', '服務產業', '機電光', '電子系', '機械系', '飛機', '事業系', '新竹', '分部', '運輸', '流行', '演藝', '科車輛', '化妝品', '旅館', '烘焙', '事業科', '會議', '展覽', '服務業', '專業', '人員', '影視動', '畫科', '理科', '照護', '視光科', '護學系', '美容', '應用科', '視光', '學科', '服務事業科', '關懷', '評鑑', '媒材', '教學系', '障礙者', '轉銜', '身心', '科教', '中國語', '商教學', '事務學', '國民小學', '職進', '會產業', '暨化', '學教學', '城市', '競技運動', '訓練', '球類', '陸上', '水上'])"
      ]
     },
     "execution_count": 131,
     "metadata": {},
     "output_type": "execute_result"
    }
   ],
   "source": [
    "diction.keys()"
   ]
  },
  {
   "cell_type": "code",
   "execution_count": 138,
   "id": "6122160f",
   "metadata": {},
   "outputs": [],
   "source": [
    "from PIL import Image\n",
    "import matplotlib.pyplot as plt\n",
    "from wordcloud import WordCloud"
   ]
  },
  {
   "cell_type": "code",
   "execution_count": 139,
   "id": "7ad12ca9",
   "metadata": {},
   "outputs": [],
   "source": [
    "import numpy as np"
   ]
  },
  {
   "cell_type": "code",
   "execution_count": 143,
   "id": "e9d5931b",
   "metadata": {},
   "outputs": [],
   "source": [
    "mask = np.array(Image.open(\"pngtree-university-glyph-black-icon-png-image_3754767.jpg\"))\n",
    "font = \"C:\\Windows\\Fonts\\MSJH.TTC\""
   ]
  },
  {
   "cell_type": "code",
   "execution_count": 144,
   "id": "93ef2749",
   "metadata": {},
   "outputs": [
    {
     "data": {
      "text/plain": [
       "<wordcloud.wordcloud.WordCloud at 0x1b384f51490>"
      ]
     },
     "execution_count": 144,
     "metadata": {},
     "output_type": "execute_result"
    }
   ],
   "source": [
    "wordcloud = WordCloud(background_color = \"white\", font_path=font, mask = mask)\n",
    "wordcloud.generate_from_frequencies(diction)"
   ]
  },
  {
   "cell_type": "code",
   "execution_count": 145,
   "id": "0da4b51b",
   "metadata": {},
   "outputs": [
    {
     "data": {
      "image/png": "[encoded data removed]",
      "text/plain": [
       "<Figure size 1440x1440 with 1 Axes>"
      ]
     },
     "metadata": {
      "needs_background": "light"
     },
     "output_type": "display_data"
    }
   ],
   "source": [
    "plt.figure(figsize=(20,20))\n",
    "plt.imshow(wordcloud)\n",
    "plt.axis(\"off\")\n",
    "plt.show()"
   ]
  }
 ],
 "metadata": {
  "kernelspec": {
   "display_name": "Python 3 (ipykernel)",
   "language": "python",
   "name": "python3"
  },
  "language_info": {
   "codemirror_mode": {
    "name": "ipython",
    "version": 3
   },
   "file_extension": ".py",
   "mimetype": "text/x-python",
   "name": "python",
   "nbconvert_exporter": "python",
   "pygments_lexer": "ipython3",
   "version": "3.9.12"
  }
 },
 "nbformat": 4,
 "nbformat_minor": 5
}
