{
 "cells": [
  {
   "cell_type": "code",
   "execution_count": 36,
   "id": "043bb1f6",
   "metadata": {},
   "outputs": [
    {
     "name": "stdout",
     "output_type": "stream",
     "text": [
      "  得過總冠軍之東區隊伍\n",
      "0        BOS\n",
      "1         NY\n",
      "2        PHI\n",
      "3        TOR\n",
      "4        CHI\n",
      "5        CLE\n",
      "6        DET\n",
      "7        MIL\n",
      "8        ATL\n",
      "9        MIA\n"
     ]
    }
   ],
   "source": [
    "#匯入第一個csv檔案-nba得過總冠軍之東區隊伍\n",
    "\n",
    "import pandas as pd\n",
    "\n",
    "nba1 = pd.read_csv(\"NBA champion E.csv\")\n",
    "print(nba1)"
   ]
  },
  {
   "cell_type": "code",
   "execution_count": 38,
   "id": "651d5d99",
   "metadata": {},
   "outputs": [
    {
     "name": "stdout",
     "output_type": "stream",
     "text": [
      "  十年內得過總冠軍之東西區隊伍\n",
      "0            MIA\n",
      "1            SAS\n",
      "2             GS\n",
      "3            CLE\n",
      "4            TOR\n",
      "5            LAL\n",
      "6            MIL\n"
     ]
    }
   ],
   "source": [
    "#匯入第二個csv檔案-nba十年內得過冠軍之東西區隊伍\n",
    "\n",
    "nba2 = pd.read_csv(\"NBA champion X.csv\")\n",
    "print(nba2)"
   ]
  },
  {
   "cell_type": "code",
   "execution_count": 39,
   "id": "d838de9e",
   "metadata": {},
   "outputs": [
    {
     "name": "stdout",
     "output_type": "stream",
     "text": [
      "得過總冠軍之東區隊伍數: 10  vs. 十年內得過總冠軍之東西區隊伍數: 7\n"
     ]
    }
   ],
   "source": [
    "#計算兩筆資料集之值\n",
    "ls_A = list(nba1[\"得過總冠軍之東區隊伍\"])\n",
    "ls_B = list(nba2[\"十年內得過總冠軍之東西區隊伍\"])\n",
    "print(\"得過總冠軍之東區隊伍數:\", len(ls_A), \" vs. 十年內得過總冠軍之東西區隊伍數:\", len(ls_B))"
   ]
  },
  {
   "cell_type": "code",
   "execution_count": 40,
   "id": "42e2a636",
   "metadata": {},
   "outputs": [],
   "source": [
    "L1=set(ls_A)\n",
    "L2=set(ls_B)"
   ]
  },
  {
   "cell_type": "code",
   "execution_count": 34,
   "id": "7dfc8630",
   "metadata": {},
   "outputs": [
    {
     "name": "stdout",
     "output_type": "stream",
     "text": [
      "十年內得過總冠軍之東區隊伍:\n",
      "{'MIA', 'TOR', 'CLE', 'MIL'}\n"
     ]
    }
   ],
   "source": [
    "#交集\n",
    "#十年內得過總冠軍之東區隊伍\n",
    "\n",
    "print(\"十年內得過總冠軍之東區隊伍:\")\n",
    "print(L1&L2)"
   ]
  },
  {
   "cell_type": "code",
   "execution_count": 41,
   "id": "790883e1",
   "metadata": {},
   "outputs": [
    {
     "name": "stdout",
     "output_type": "stream",
     "text": [
      "得過總冠軍之東區隊伍及十年內得過總冠軍之西區隊伍\n",
      "{'NY', 'TOR', 'CHI', 'MIA', 'ATL', 'PHI', 'CLE', 'DET', 'MIL', 'BOS', 'GS', 'LAL', 'SAS'}\n"
     ]
    }
   ],
   "source": [
    "#聯集\n",
    "#得過總冠軍之東區隊伍及十年內得過總冠軍之西區隊伍\n",
    "\n",
    "print(\"得過總冠軍之東區隊伍及十年內得過總冠軍之西區隊伍:\")\n",
    "print(L1|L2)"
   ]
  },
  {
   "cell_type": "code",
   "execution_count": 43,
   "id": "f86cd8e6",
   "metadata": {},
   "outputs": [
    {
     "name": "stdout",
     "output_type": "stream",
     "text": [
      "十年內沒得過冠軍之東區隊伍:\n",
      "{'CHI', 'NY', 'ATL', 'PHI', 'DET', 'BOS'}\n"
     ]
    }
   ],
   "source": [
    "#差集\n",
    "#十年內沒得過總冠軍之東區隊伍\n",
    "\n",
    "print(\"十年內沒得過總冠軍之東區隊伍:\")\n",
    "print(L1-L2)"
   ]
  },
  {
   "cell_type": "code",
   "execution_count": 44,
   "id": "55b7172e",
   "metadata": {},
   "outputs": [
    {
     "name": "stdout",
     "output_type": "stream",
     "text": [
      "得過總冠軍之西區隊伍及十年內未得過總冠軍之東區隊伍:\n",
      "{'CHI', 'ATL', 'PHI', 'DET', 'GS', 'SAS', 'NY', 'BOS', 'LAL'}\n"
     ]
    }
   ],
   "source": [
    "#對稱差集\n",
    "#得過總冠軍之西區隊伍及十年內未得過總冠軍之東區隊伍\n",
    "\n",
    "print(\"得過總冠軍之西區隊伍及十年內未得過總冠軍之東區隊伍:\")\n",
    "print(L1^L2)"
   ]
  }
 ],
 "metadata": {
  "kernelspec": {
   "display_name": "Python 3 (ipykernel)",
   "language": "python",
   "name": "python3"
  },
  "language_info": {
   "codemirror_mode": {
    "name": "ipython",
    "version": 3
   },
   "file_extension": ".py",
   "mimetype": "text/x-python",
   "name": "python",
   "nbconvert_exporter": "python",
   "pygments_lexer": "ipython3",
   "version": "3.9.12"
  }
 },
 "nbformat": 4,
 "nbformat_minor": 5
}
