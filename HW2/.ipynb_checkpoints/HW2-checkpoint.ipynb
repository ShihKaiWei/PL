{
 "cells": [
  {
   "cell_type": "code",
   "execution_count": 37,
   "id": "14ddb7d9",
   "metadata": {},
   "outputs": [],
   "source": [
    "#呼叫JSON檔\n",
    "import json\n",
    "AIC = open('AIC.json',encoding=\"utf8\")"
   ]
  },
  {
   "cell_type": "code",
   "execution_count": 38,
   "id": "d4864c7f",
   "metadata": {},
   "outputs": [],
   "source": [
    "A = json.load(AIC)"
   ]
  },
  {
   "cell_type": "code",
   "execution_count": 39,
   "id": "0426e4b2",
   "metadata": {},
   "outputs": [
    {
     "data": {
      "text/plain": [
       "dict"
      ]
     },
     "execution_count": 39,
     "metadata": {},
     "output_type": "execute_result"
    }
   ],
   "source": [
    "type(A)"
   ]
  },
  {
   "cell_type": "code",
   "execution_count": 40,
   "id": "ffeeb4be",
   "metadata": {
    "scrolled": true
   },
   "outputs": [
    {
     "data": {
      "text/plain": [
       "dict_items([('隊伍列表', [{'隊伍名稱': 'MAD', '隊伍賽區': 'GCS', '隊伍世界排名': 'NO.1'}, {'隊伍名稱': 'SGP', '隊伍賽區': 'AOG', '隊伍世界排名': 'NO.2'}, {'隊伍名稱': 'FL', '隊伍賽區': 'AOG', '隊伍世界排名': 'NO.3'}, {'隊伍名稱': 'BRU', '隊伍賽區': 'RPL', '隊伍世界排名': 'NO.4'}, {'隊伍名稱': 'TLN', '隊伍賽區': 'RPL', '隊伍世界排名': 'NO.5'}]), ('隊伍小組賽勝率', [{'隊伍名稱': 'MAD', '勝率': '60%'}, {'隊伍名稱': 'SGP', '勝率': '60%'}, {'隊伍名稱': 'FL', '勝率': '80%'}, {'隊伍名稱': 'BRU', '勝率': '60%'}, {'隊伍名稱': 'TLN', '勝率': '60%'}])])"
      ]
     },
     "execution_count": 40,
     "metadata": {},
     "output_type": "execute_result"
    }
   ],
   "source": [
    "#讀出檔案裡的資料\n",
    "A.items()"
   ]
  },
  {
   "cell_type": "code",
   "execution_count": 41,
   "id": "e44201cc",
   "metadata": {},
   "outputs": [],
   "source": [
    "temp = A.get('隊伍列表')\n",
    "temp1 = A.get('隊伍小組賽勝率')"
   ]
  },
  {
   "cell_type": "code",
   "execution_count": 42,
   "id": "ae98ea50",
   "metadata": {},
   "outputs": [
    {
     "name": "stdout",
     "output_type": "stream",
     "text": [
      "查詢隊伍資訊:MAD\n"
     ]
    }
   ],
   "source": [
    "#輸入想查詢的隊伍\n",
    "ask = input(\"查詢隊伍資訊:\")"
   ]
  },
  {
   "cell_type": "code",
   "execution_count": 43,
   "id": "40b94479",
   "metadata": {},
   "outputs": [
    {
     "name": "stdout",
     "output_type": "stream",
     "text": [
      "MAD 屬於 GCS\n",
      "隊伍世界排名: NO.1\n"
     ]
    }
   ],
   "source": [
    "# 查詢隊伍賽區跟隊伍世界排名\n",
    "for a in temp:\n",
    "    if ask == a.get('隊伍名稱'):\n",
    "        print(ask,'屬於', a.get('隊伍賽區'))\n",
    "        print(\"隊伍世界排名:\", a.get('隊伍世界排名'))"
   ]
  },
  {
   "cell_type": "code",
   "execution_count": 44,
   "id": "b923b69b",
   "metadata": {},
   "outputs": [
    {
     "name": "stdout",
     "output_type": "stream",
     "text": [
      "勝率為 60%\n"
     ]
    }
   ],
   "source": [
    "# 查詢隊伍小組賽勝率\n",
    "for b in temp1:\n",
    "    if ask == b.get('隊伍名稱'):\n",
    "        print('勝率為', b.get('勝率'))"
   ]
  },
  {
   "cell_type": "code",
   "execution_count": 45,
   "id": "c9b4c6e1",
   "metadata": {},
   "outputs": [
    {
     "data": {
      "text/plain": [
       "['NO.1', 'NO.2', 'NO.3', 'NO.4', 'NO.5']"
      ]
     },
     "execution_count": 45,
     "metadata": {},
     "output_type": "execute_result"
    }
   ],
   "source": [
    "#排序隊伍世界排名\n",
    "strength = []\n",
    "for a in temp:\n",
    "    strength.append(a.get('隊伍世界排名'))\n",
    "strength"
   ]
  },
  {
   "cell_type": "code",
   "execution_count": 46,
   "id": "0f41efd6",
   "metadata": {},
   "outputs": [],
   "source": [
    "strength_enumerate = enumerate(strength, start = 1)"
   ]
  },
  {
   "cell_type": "code",
   "execution_count": 47,
   "id": "0b3473ca",
   "metadata": {},
   "outputs": [
    {
     "data": {
      "text/plain": [
       "[(5, 'NO.5'), (4, 'NO.4'), (3, 'NO.3'), (2, 'NO.2'), (1, 'NO.1')]"
      ]
     },
     "execution_count": 47,
     "metadata": {},
     "output_type": "execute_result"
    }
   ],
   "source": [
    "strength_enumerate_sorted = sorted(strength_enumerate, key = lambda s: s[1], reverse = True)\n",
    "strength_enumerate_sorted"
   ]
  },
  {
   "cell_type": "code",
   "execution_count": 48,
   "id": "20623547",
   "metadata": {},
   "outputs": [
    {
     "data": {
      "text/plain": [
       "5"
      ]
     },
     "execution_count": 48,
     "metadata": {},
     "output_type": "execute_result"
    }
   ],
   "source": [
    "strength_enumerate_sorted[0][0]"
   ]
  },
  {
   "cell_type": "code",
   "execution_count": 49,
   "id": "d89f8127",
   "metadata": {},
   "outputs": [
    {
     "name": "stdout",
     "output_type": "stream",
     "text": [
      "TLN 是 NO.5\n",
      "BRU 是 NO.4\n",
      "FL 是 NO.3\n",
      "SGP 是 NO.2\n",
      "MAD 是 NO.1\n"
     ]
    }
   ],
   "source": [
    "# 印出排序過後的隊伍名稱&隊伍世界排名\n",
    "for a in strength_enumerate_sorted:\n",
    "    j = a[0] - 1\n",
    "    print(temp[j].get('隊伍名稱'), '是', temp[j].get('隊伍世界排名'))"
   ]
  }
 ],
 "metadata": {
  "kernelspec": {
   "display_name": "Python 3 (ipykernel)",
   "language": "python",
   "name": "python3"
  },
  "language_info": {
   "codemirror_mode": {
    "name": "ipython",
    "version": 3
   },
   "file_extension": ".py",
   "mimetype": "text/x-python",
   "name": "python",
   "nbconvert_exporter": "python",
   "pygments_lexer": "ipython3",
   "version": "3.9.12"
  }
 },
 "nbformat": 4,
 "nbformat_minor": 5
}
