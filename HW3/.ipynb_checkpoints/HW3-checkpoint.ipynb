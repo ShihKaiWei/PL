{
 "cells": [
  {
   "cell_type": "code",
   "execution_count": 13,
   "id": "32c4e50f",
   "metadata": {},
   "outputs": [],
   "source": [
    "#抓取yahoo電影本周新片的網頁原始碼(HTML)\n",
    "\n",
    "import requests\n",
    "from bs4 import BeautifulSoup\n",
    "\n",
    "url = 'https://movies.yahoo.com.tw/movie_thisweek.html'\n",
    "response = requests.get(url=url)\n",
    "soup = BeautifulSoup(response.text, 'lxml')"
   ]
  },
  {
   "cell_type": "code",
   "execution_count": 10,
   "id": "f9f90a53",
   "metadata": {},
   "outputs": [
    {
     "name": "stdout",
     "output_type": "stream",
     "text": [
      "玩命光頭(Very Bald trip) 上映日：2022-11-04 期待度：80%\n",
      "小藍(Little Blue) 上映日：2022-11-04 期待度：73%\n",
      "瑞士鐘錶師(Unrueh) 上映日：2022-11-04 期待度：100%\n",
      "局中局(Confession) 上映日：2022-11-04 期待度：95%\n",
      "刀劍神域劇場版 –Progressive- 陰沉薄暮的詼諧曲(Sword Art Online the Movie -Progressive- Scherzo of Deep Night) 上映日：2022-11-04 期待度：91%\n",
      "遺屍物(Lost and Found) 上映日：2022-11-04 期待度：80%\n",
      "絕命線阱(On the Line) 上映日：2022-11-04 期待度：100%\n",
      "索蘭琪的少女心事(Petite Solange) 上映日：2022-11-04 期待度：100%\n",
      "大逃殺 4K數位修復版(Battle Royale) 上映日：2022-11-04 期待度：100%\n",
      "獵空計畫(Mission Sky) 上映日：2022-11-04 期待度：75%\n"
     ]
    }
   ],
   "source": [
    "#解析原始碼，取得本周新片的詳細資訊\n",
    "\n",
    "info_items = soup.find_all('div', 'release_info')\n",
    "for item in info_items:\n",
    "    name = item.find('div', 'release_movie_name').a.text.strip()\n",
    "    english_name = item.find('div', 'en').a.text.strip()\n",
    "    release_time = item.find('div', 'release_movie_time').text.split('：')[-1].strip()\n",
    "    level = item.find('div', 'leveltext').span.text.strip()\n",
    "    \n",
    "    print('{}({}) 上映日：{} 期待度：{}'.format(name, english_name, release_time, level))"
   ]
  },
  {
   "cell_type": "code",
   "execution_count": 1,
   "id": "68080480",
   "metadata": {},
   "outputs": [
    {
     "ename": "NameError",
     "evalue": "name 'soup' is not defined",
     "output_type": "error",
     "traceback": [
      "\u001b[1;31m---------------------------------------------------------------------------\u001b[0m",
      "\u001b[1;31mNameError\u001b[0m                                 Traceback (most recent call last)",
      "Input \u001b[1;32mIn [1]\u001b[0m, in \u001b[0;36m<cell line: 5>\u001b[1;34m()\u001b[0m\n\u001b[0;32m      1\u001b[0m \u001b[38;5;66;03m#匯入csv模組並儲存檔案\u001b[39;00m\n\u001b[0;32m      3\u001b[0m \u001b[38;5;28;01mimport\u001b[39;00m \u001b[38;5;21;01mcsv\u001b[39;00m\n\u001b[1;32m----> 5\u001b[0m info_items \u001b[38;5;241m=\u001b[39m \u001b[43msoup\u001b[49m\u001b[38;5;241m.\u001b[39mfind_all(\u001b[38;5;124m'\u001b[39m\u001b[38;5;124mdiv\u001b[39m\u001b[38;5;124m'\u001b[39m, \u001b[38;5;124m'\u001b[39m\u001b[38;5;124mrelease_info\u001b[39m\u001b[38;5;124m'\u001b[39m)\n\u001b[0;32m      7\u001b[0m \u001b[38;5;28;01mwith\u001b[39;00m \u001b[38;5;28mopen\u001b[39m(\u001b[38;5;124m'\u001b[39m\u001b[38;5;124mHW3.csv\u001b[39m\u001b[38;5;124m'\u001b[39m, \u001b[38;5;124m'\u001b[39m\u001b[38;5;124mw\u001b[39m\u001b[38;5;124m'\u001b[39m, encoding\u001b[38;5;241m=\u001b[39m\u001b[38;5;124m'\u001b[39m\u001b[38;5;124mutf-8\u001b[39m\u001b[38;5;124m'\u001b[39m, newline\u001b[38;5;241m=\u001b[39m\u001b[38;5;124m'\u001b[39m\u001b[38;5;124m'\u001b[39m) \u001b[38;5;28;01mas\u001b[39;00m csv_file:\n\u001b[0;32m      9\u001b[0m     csv_writer \u001b[38;5;241m=\u001b[39m csv\u001b[38;5;241m.\u001b[39mwriter(csv_file)\n",
      "\u001b[1;31mNameError\u001b[0m: name 'soup' is not defined"
     ]
    }
   ],
   "source": [
    "#匯入csv模組並儲存檔案\n",
    "\n",
    "import csv\n",
    "\n",
    "info_items = soup.find_all('div', 'release_info')\n",
    "\n",
    "with open('HW3.csv', 'w', encoding='utf-8', newline='') as csv_file:\n",
    "    \n",
    "    csv_writer = csv.writer(csv_file)\n",
    "    csv_writer.writerow(['電影片名', '電影英文片名', '上映時間', '網友期待度'])\n",
    "\n",
    "    for item in info_items:\n",
    "\n",
    "        name = item.find('div', 'release_movie_name').a.text.strip()\n",
    "        english_name = item.find('div', 'en').a.text.strip()\n",
    "        release_time = item.find('div', 'release_movie_time').text.split('：')[-1].strip()\n",
    "        level = item.find('div', 'leveltext').span.text.strip()\n",
    "        \n",
    "        csv_writer.writerow([name, english_name, release_time, level])"
   ]
  },
  {
   "cell_type": "code",
   "execution_count": null,
   "id": "06efb6b0",
   "metadata": {},
   "outputs": [],
   "source": []
  }
 ],
 "metadata": {
  "kernelspec": {
   "display_name": "Python 3 (ipykernel)",
   "language": "python",
   "name": "python3"
  },
  "language_info": {
   "codemirror_mode": {
    "name": "ipython",
    "version": 3
   },
   "file_extension": ".py",
   "mimetype": "text/x-python",
   "name": "python",
   "nbconvert_exporter": "python",
   "pygments_lexer": "ipython3",
   "version": "3.9.12"
  }
 },
 "nbformat": 4,
 "nbformat_minor": 5
}
