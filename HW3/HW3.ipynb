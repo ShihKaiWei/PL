{
 "cells": [
  {
   "cell_type": "code",
   "execution_count": 13,
   "id": "32c4e50f",
   "metadata": {},
   "outputs": [],
   "source": [
    "import requests\n",
    "from bs4 import BeautifulSoup\n",
    "\n",
    "url = 'https://movies.yahoo.com.tw/movie_thisweek.html'\n",
    "response = requests.get(url=url)\n",
    "\n",
    "soup = BeautifulSoup(response.text, 'lxml')"
   ]
  },
  {
   "cell_type": "code",
   "execution_count": 10,
   "id": "f9f90a53",
   "metadata": {},
   "outputs": [
    {
     "name": "stdout",
     "output_type": "stream",
     "text": [
      "玩命光頭(Very Bald trip) 上映日：2022-11-04 期待度：80%\n",
      "小藍(Little Blue) 上映日：2022-11-04 期待度：73%\n",
      "瑞士鐘錶師(Unrueh) 上映日：2022-11-04 期待度：100%\n",
      "局中局(Confession) 上映日：2022-11-04 期待度：95%\n",
      "刀劍神域劇場版 –Progressive- 陰沉薄暮的詼諧曲(Sword Art Online the Movie -Progressive- Scherzo of Deep Night) 上映日：2022-11-04 期待度：91%\n",
      "遺屍物(Lost and Found) 上映日：2022-11-04 期待度：80%\n",
      "絕命線阱(On the Line) 上映日：2022-11-04 期待度：100%\n",
      "索蘭琪的少女心事(Petite Solange) 上映日：2022-11-04 期待度：100%\n",
      "大逃殺 4K數位修復版(Battle Royale) 上映日：2022-11-04 期待度：100%\n",
      "獵空計畫(Mission Sky) 上映日：2022-11-04 期待度：75%\n"
     ]
    }
   ],
   "source": [
    "#解析原始碼，取得焦點文章的標題\n",
    "\n",
    "info_items = soup.find_all('div', 'release_info')\n",
    "\n",
    "for item in info_items:\n",
    "    name = item.find('div', 'release_movie_name').a.text.strip()\n",
    "    english_name = item.find('div', 'en').a.text.strip()\n",
    "    release_time = item.find('div', 'release_movie_time').text.split('：')[-1].strip()\n",
    "    level = item.find('div', 'leveltext').span.text.strip()\n",
    "    \n",
    "    print('{}({}) 上映日：{} 期待度：{}'.format(name, english_name, release_time, level))"
   ]
  },
  {
   "cell_type": "code",
   "execution_count": 14,
   "id": "68080480",
   "metadata": {},
   "outputs": [],
   "source": [
    "import csv\n",
    "\n",
    "info_items = soup.find_all('div', 'release_info')\n",
    "\n",
    "with open('HW3.csv', 'w', encoding='utf-8', newline='') as csv_file:\n",
    "    \n",
    "    csv_writer = csv.writer(csv_file)\n",
    "    csv_writer.writerow(['電影片名', '電影英文片名', '上映時間', '網友期待度'])\n",
    "\n",
    "    for item in info_items:\n",
    "\n",
    "        name = item.find('div', 'release_movie_name').a.text.strip()\n",
    "        english_name = item.find('div', 'en').a.text.strip()\n",
    "        release_time = item.find('div', 'release_movie_time').text.split('：')[-1].strip()\n",
    "        level = item.find('div', 'leveltext').span.text.strip()\n",
    "        \n",
    "        csv_writer.writerow([name, english_name, release_time, level])"
   ]
  }
 ],
 "metadata": {
  "kernelspec": {
   "display_name": "Python 3 (ipykernel)",
   "language": "python",
   "name": "python3"
  },
  "language_info": {
   "codemirror_mode": {
    "name": "ipython",
    "version": 3
   },
   "file_extension": ".py",
   "mimetype": "text/x-python",
   "name": "python",
   "nbconvert_exporter": "python",
   "pygments_lexer": "ipython3",
   "version": "3.9.12"
  }
 },
 "nbformat": 4,
 "nbformat_minor": 5
}
